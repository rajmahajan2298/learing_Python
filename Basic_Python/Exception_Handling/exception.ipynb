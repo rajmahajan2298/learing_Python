{
 "cells": [
  {
   "cell_type": "code",
   "execution_count": null,
   "id": "df0e5d9f",
   "metadata": {},
   "outputs": [],
   "source": [
    "x = input(\"Enter Number 1: \")\n",
    "y = input(\"Enter Number 2: \")\n",
    "\n",
    "try:\n",
    "    z = int(x) / int(y)\n",
    "except ZeroDivisonError as e:\n",
    "    print(\"Exception occured: \" ,e)\n",
    "    z = 0\n",
    "\n",
    "print(\"division is: \",z)"
   ]
  },
  {
   "cell_type": "code",
   "execution_count": null,
   "id": "4cf44fe8",
   "metadata": {},
   "outputs": [],
   "source": []
  }
 ],
 "metadata": {
  "kernelspec": {
   "display_name": "Python 3 (ipykernel)",
   "language": "python",
   "name": "python3"
  },
  "language_info": {
   "codemirror_mode": {
    "name": "ipython",
    "version": 3
   },
   "file_extension": ".py",
   "mimetype": "text/x-python",
   "name": "python",
   "nbconvert_exporter": "python",
   "pygments_lexer": "ipython3",
   "version": "3.11.7"
  }
 },
 "nbformat": 4,
 "nbformat_minor": 5
}
