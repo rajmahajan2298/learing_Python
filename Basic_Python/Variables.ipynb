{
 "cells": [
  {
   "cell_type": "code",
   "execution_count": 1,
   "id": "dc78fef0",
   "metadata": {},
   "outputs": [],
   "source": [
    "pi = 22/7"
   ]
  },
  {
   "cell_type": "code",
   "execution_count": 2,
   "id": "ccec6ef6",
   "metadata": {},
   "outputs": [
    {
     "data": {
      "text/plain": [
       "float"
      ]
     },
     "execution_count": 2,
     "metadata": {},
     "output_type": "execute_result"
    }
   ],
   "source": [
    "type(pi)"
   ]
  },
  {
   "cell_type": "code",
   "execution_count": 3,
   "id": "124955a2",
   "metadata": {},
   "outputs": [
    {
     "ename": "SyntaxError",
     "evalue": "invalid syntax (432762420.py, line 1)",
     "output_type": "error",
     "traceback": [
      "\u001b[1;36m  Cell \u001b[1;32mIn[3], line 1\u001b[1;36m\u001b[0m\n\u001b[1;33m    for = 4\u001b[0m\n\u001b[1;37m        ^\u001b[0m\n\u001b[1;31mSyntaxError\u001b[0m\u001b[1;31m:\u001b[0m invalid syntax\n"
     ]
    }
   ],
   "source": [
    "for = 4\n",
    "type(for)"
   ]
  },
  {
   "cell_type": "code",
   "execution_count": 4,
   "id": "7f99c4a3",
   "metadata": {},
   "outputs": [],
   "source": [
    "principle_amount = 200000\n",
    "rate_interest = 10%\n",
    "time = 3\n",
    "\n",
    "simple_interest = principle_amount * rate_interest * time / 100\n"
   ]
  },
  {
   "cell_type": "code",
   "execution_count": 5,
   "id": "51cce84d",
   "metadata": {},
   "outputs": [
    {
     "data": {
      "text/plain": [
       "60000.0"
      ]
     },
     "execution_count": 5,
     "metadata": {},
     "output_type": "execute_result"
    }
   ],
   "source": [
    "simple_interest"
   ]
  },
  {
   "cell_type": "code",
   "execution_count": 1,
   "id": "9caab39d",
   "metadata": {},
   "outputs": [
    {
     "ename": "NameError",
     "evalue": "name 'simple_interest' is not defined",
     "output_type": "error",
     "traceback": [
      "\u001b[1;31m---------------------------------------------------------------------------\u001b[0m",
      "\u001b[1;31mNameError\u001b[0m                                 Traceback (most recent call last)",
      "Cell \u001b[1;32mIn[1], line 1\u001b[0m\n\u001b[1;32m----> 1\u001b[0m simple_interest\n",
      "\u001b[1;31mNameError\u001b[0m: name 'simple_interest' is not defined"
     ]
    }
   ],
   "source": [
    "simple_interest"
   ]
  },
  {
   "cell_type": "code",
   "execution_count": 2,
   "id": "8369b32a",
   "metadata": {},
   "outputs": [
    {
     "ename": "SyntaxError",
     "evalue": "invalid syntax (1521752389.py, line 2)",
     "output_type": "error",
     "traceback": [
      "\u001b[1;36m  Cell \u001b[1;32mIn[2], line 2\u001b[1;36m\u001b[0m\n\u001b[1;33m    rate_interest = 10%\u001b[0m\n\u001b[1;37m                       ^\u001b[0m\n\u001b[1;31mSyntaxError\u001b[0m\u001b[1;31m:\u001b[0m invalid syntax\n"
     ]
    }
   ],
   "source": [
    "principle_amount = 200000\n",
    "rate_interest = 10\n",
    "time = 3\n",
    "\n",
    "simple_interest = principle_amount * rate_interest * time / 100\n"
   ]
  },
  {
   "cell_type": "code",
   "execution_count": 3,
   "id": "b65bcd75",
   "metadata": {},
   "outputs": [],
   "source": [
    "principle_amount = 200000\n",
    "rate_interest = 10\n",
    "time = 3\n",
    "\n",
    "simple_interest = principle_amount * rate_interest * time / 100"
   ]
  },
  {
   "cell_type": "code",
   "execution_count": 4,
   "id": "777626a5",
   "metadata": {},
   "outputs": [
    {
     "data": {
      "text/plain": [
       "60000.0"
      ]
     },
     "execution_count": 4,
     "metadata": {},
     "output_type": "execute_result"
    }
   ],
   "source": [
    "simple_interest"
   ]
  },
  {
   "cell_type": "code",
   "execution_count": 5,
   "id": "b9208440",
   "metadata": {},
   "outputs": [
    {
     "data": {
      "text/plain": [
       "float"
      ]
     },
     "execution_count": 5,
     "metadata": {},
     "output_type": "execute_result"
    }
   ],
   "source": [
    "type(simple_interest)"
   ]
  },
  {
   "cell_type": "code",
   "execution_count": 6,
   "id": "b795eef8",
   "metadata": {},
   "outputs": [],
   "source": [
    "principle_amount = 200000\n",
    "rate_interest = 10\n",
    "time = 3\n",
    "\n",
    "simple_interest = principle_amount * rate_interest * time / 100\n",
    "\n",
    "total_amount = principle_amount + simple_interest"
   ]
  },
  {
   "cell_type": "code",
   "execution_count": 7,
   "id": "ce6b8525",
   "metadata": {},
   "outputs": [
    {
     "data": {
      "text/plain": [
       "60000.0"
      ]
     },
     "execution_count": 7,
     "metadata": {},
     "output_type": "execute_result"
    }
   ],
   "source": [
    "simple_interest"
   ]
  },
  {
   "cell_type": "code",
   "execution_count": 8,
   "id": "a89da064",
   "metadata": {},
   "outputs": [
    {
     "data": {
      "text/plain": [
       "260000.0"
      ]
     },
     "execution_count": 8,
     "metadata": {},
     "output_type": "execute_result"
    }
   ],
   "source": [
    "total_amount"
   ]
  },
  {
   "cell_type": "code",
   "execution_count": null,
   "id": "c0c9c0a8",
   "metadata": {},
   "outputs": [],
   "source": []
  }
 ],
 "metadata": {
  "kernelspec": {
   "display_name": "Python 3 (ipykernel)",
   "language": "python",
   "name": "python3"
  },
  "language_info": {
   "codemirror_mode": {
    "name": "ipython",
    "version": 3
   },
   "file_extension": ".py",
   "mimetype": "text/x-python",
   "name": "python",
   "nbconvert_exporter": "python",
   "pygments_lexer": "ipython3",
   "version": "3.11.7"
  }
 },
 "nbformat": 4,
 "nbformat_minor": 5
}
