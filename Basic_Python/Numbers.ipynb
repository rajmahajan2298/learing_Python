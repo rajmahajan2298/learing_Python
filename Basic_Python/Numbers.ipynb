{
 "cells": [
  {
   "cell_type": "code",
   "execution_count": 1,
   "id": "26af4840",
   "metadata": {},
   "outputs": [],
   "source": [
    "foo = 3j+4\n"
   ]
  },
  {
   "cell_type": "code",
   "execution_count": 2,
   "id": "d8382124",
   "metadata": {},
   "outputs": [
    {
     "data": {
      "text/plain": [
       "complex"
      ]
     },
     "execution_count": 2,
     "metadata": {},
     "output_type": "execute_result"
    }
   ],
   "source": [
    "type(foo)"
   ]
  },
  {
   "cell_type": "code",
   "execution_count": 3,
   "id": "722696ed",
   "metadata": {},
   "outputs": [
    {
     "name": "stdout",
     "output_type": "stream",
     "text": [
      "<class 'float'>\n"
     ]
    }
   ],
   "source": [
    "a = 1.2e3\n",
    "print(type(a))"
   ]
  },
  {
   "cell_type": "code",
   "execution_count": 4,
   "id": "ba44268d",
   "metadata": {},
   "outputs": [
    {
     "ename": "NameError",
     "evalue": "name 'b' is not defined",
     "output_type": "error",
     "traceback": [
      "\u001b[1;31m---------------------------------------------------------------------------\u001b[0m",
      "\u001b[1;31mNameError\u001b[0m                                 Traceback (most recent call last)",
      "Cell \u001b[1;32mIn[4], line 1\u001b[0m\n\u001b[1;32m----> 1\u001b[0m \u001b[38;5;28mformat\u001b[39m(\u001b[38;5;241m9\u001b[39m,b)\n",
      "\u001b[1;31mNameError\u001b[0m: name 'b' is not defined"
     ]
    }
   ],
   "source": [
    "format(9,b)"
   ]
  },
  {
   "cell_type": "code",
   "execution_count": 5,
   "id": "c9056dd6",
   "metadata": {},
   "outputs": [
    {
     "ename": "TypeError",
     "evalue": "format() argument 2 must be str, not int",
     "output_type": "error",
     "traceback": [
      "\u001b[1;31m---------------------------------------------------------------------------\u001b[0m",
      "\u001b[1;31mTypeError\u001b[0m                                 Traceback (most recent call last)",
      "Cell \u001b[1;32mIn[5], line 2\u001b[0m\n\u001b[0;32m      1\u001b[0m b \u001b[38;5;241m=\u001b[39m\u001b[38;5;241m9\u001b[39m\n\u001b[1;32m----> 2\u001b[0m \u001b[38;5;28mformat\u001b[39m(\u001b[38;5;241m9\u001b[39m,b)\n",
      "\u001b[1;31mTypeError\u001b[0m: format() argument 2 must be str, not int"
     ]
    }
   ],
   "source": [
    "b =9\n",
    "format(9,b)"
   ]
  },
  {
   "cell_type": "code",
   "execution_count": 6,
   "id": "59e83c27",
   "metadata": {},
   "outputs": [
    {
     "data": {
      "text/plain": [
       "'221'"
      ]
     },
     "execution_count": 6,
     "metadata": {},
     "output_type": "execute_result"
    }
   ],
   "source": [
    "format(145, 'o')"
   ]
  },
  {
   "cell_type": "code",
   "execution_count": 7,
   "id": "fdf7476c",
   "metadata": {},
   "outputs": [
    {
     "data": {
      "text/plain": [
       "builtin_function_or_method"
      ]
     },
     "execution_count": 7,
     "metadata": {},
     "output_type": "execute_result"
    }
   ],
   "source": [
    "type(format)"
   ]
  },
  {
   "cell_type": "code",
   "execution_count": 8,
   "id": "744171e9",
   "metadata": {},
   "outputs": [],
   "source": [
    "r = 84\n",
    "pi = 22/7"
   ]
  },
  {
   "cell_type": "code",
   "execution_count": 9,
   "id": "2305679d",
   "metadata": {},
   "outputs": [],
   "source": [
    "area = pi*(r)*2"
   ]
  },
  {
   "cell_type": "code",
   "execution_count": 10,
   "id": "8171c98f",
   "metadata": {},
   "outputs": [
    {
     "data": {
      "text/plain": [
       "528.0"
      ]
     },
     "execution_count": 10,
     "metadata": {},
     "output_type": "execute_result"
    }
   ],
   "source": [
    "area"
   ]
  },
  {
   "cell_type": "code",
   "execution_count": 11,
   "id": "ca777017",
   "metadata": {},
   "outputs": [],
   "source": [
    "area = pi * r ** 2"
   ]
  },
  {
   "cell_type": "code",
   "execution_count": 12,
   "id": "8b59f3c0",
   "metadata": {},
   "outputs": [
    {
     "data": {
      "text/plain": [
       "22176.0"
      ]
     },
     "execution_count": 12,
     "metadata": {},
     "output_type": "execute_result"
    }
   ],
   "source": [
    "area"
   ]
  },
  {
   "cell_type": "code",
   "execution_count": 19,
   "id": "428276c2",
   "metadata": {},
   "outputs": [
    {
     "data": {
      "text/plain": [
       "420.0"
      ]
     },
     "execution_count": 19,
     "metadata": {},
     "output_type": "execute_result"
    }
   ],
   "source": [
    "D = 490.0\n",
    "T = 7.0 * 60\n",
    "T"
   ]
  },
  {
   "cell_type": "code",
   "execution_count": 16,
   "id": "eac9913d",
   "metadata": {},
   "outputs": [
    {
     "data": {
      "text/plain": [
       "70.0"
      ]
     },
     "execution_count": 16,
     "metadata": {},
     "output_type": "execute_result"
    }
   ],
   "source": []
  },
  {
   "cell_type": "code",
   "execution_count": 17,
   "id": "12180cfc",
   "metadata": {},
   "outputs": [
    {
     "ename": "NameError",
     "evalue": "name 's' is not defined",
     "output_type": "error",
     "traceback": [
      "\u001b[1;31m---------------------------------------------------------------------------\u001b[0m",
      "\u001b[1;31mNameError\u001b[0m                                 Traceback (most recent call last)",
      "Cell \u001b[1;32mIn[17], line 1\u001b[0m\n\u001b[1;32m----> 1\u001b[0m s\n",
      "\u001b[1;31mNameError\u001b[0m: name 's' is not defined"
     ]
    }
   ],
   "source": [
    "s"
   ]
  },
  {
   "cell_type": "code",
   "execution_count": 18,
   "id": "03f4c4fb",
   "metadata": {},
   "outputs": [
    {
     "data": {
      "text/plain": [
       "70.0"
      ]
     },
     "execution_count": 18,
     "metadata": {},
     "output_type": "execute_result"
    }
   ],
   "source": [
    "S"
   ]
  },
  {
   "cell_type": "code",
   "execution_count": 20,
   "id": "b513d720",
   "metadata": {},
   "outputs": [
    {
     "data": {
      "text/plain": [
       "1.1666666666666667"
      ]
     },
     "execution_count": 20,
     "metadata": {},
     "output_type": "execute_result"
    }
   ],
   "source": [
    "S = D/T\n",
    "S"
   ]
  },
  {
   "cell_type": "code",
   "execution_count": 21,
   "id": "6f90ae5c",
   "metadata": {},
   "outputs": [
    {
     "data": {
      "text/plain": [
       "1"
      ]
     },
     "execution_count": 21,
     "metadata": {},
     "output_type": "execute_result"
    }
   ],
   "source": [
    "round(S)"
   ]
  },
  {
   "cell_type": "code",
   "execution_count": null,
   "id": "cfcbeb83",
   "metadata": {},
   "outputs": [],
   "source": []
  }
 ],
 "metadata": {
  "kernelspec": {
   "display_name": "Python 3 (ipykernel)",
   "language": "python",
   "name": "python3"
  },
  "language_info": {
   "codemirror_mode": {
    "name": "ipython",
    "version": 3
   },
   "file_extension": ".py",
   "mimetype": "text/x-python",
   "name": "python",
   "nbconvert_exporter": "python",
   "pygments_lexer": "ipython3",
   "version": "3.11.7"
  }
 },
 "nbformat": 4,
 "nbformat_minor": 5
}
