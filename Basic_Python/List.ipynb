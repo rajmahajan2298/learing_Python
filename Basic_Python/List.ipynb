{
 "cells": [
  {
   "cell_type": "code",
   "execution_count": 1,
   "id": "77758570",
   "metadata": {},
   "outputs": [
    {
     "data": {
      "text/plain": [
       "['Boots', 'jersey', 'shorts', 'socks', 'ball']"
      ]
     },
     "execution_count": 1,
     "metadata": {},
     "output_type": "execute_result"
    }
   ],
   "source": [
    "items = ['Boots', 'jersey', 'shorts', 'socks', 'ball']\n",
    "items"
   ]
  },
  {
   "cell_type": "code",
   "execution_count": 2,
   "id": "41403183",
   "metadata": {},
   "outputs": [
    {
     "data": {
      "text/plain": [
       "'Boots'"
      ]
     },
     "execution_count": 2,
     "metadata": {},
     "output_type": "execute_result"
    }
   ],
   "source": [
    "items[0]\n"
   ]
  },
  {
   "cell_type": "code",
   "execution_count": 3,
   "id": "9fa8f3f4",
   "metadata": {},
   "outputs": [
    {
     "data": {
      "text/plain": [
       "'ball'"
      ]
     },
     "execution_count": 3,
     "metadata": {},
     "output_type": "execute_result"
    }
   ],
   "source": [
    "items[4]"
   ]
  },
  {
   "cell_type": "code",
   "execution_count": 4,
   "id": "0b811eac",
   "metadata": {},
   "outputs": [
    {
     "data": {
      "text/plain": [
       "'ball'"
      ]
     },
     "execution_count": 4,
     "metadata": {},
     "output_type": "execute_result"
    }
   ],
   "source": [
    "items[-1]"
   ]
  },
  {
   "cell_type": "code",
   "execution_count": 5,
   "id": "772da62b",
   "metadata": {},
   "outputs": [
    {
     "data": {
      "text/plain": [
       "'socks'"
      ]
     },
     "execution_count": 5,
     "metadata": {},
     "output_type": "execute_result"
    }
   ],
   "source": [
    "items[-2]"
   ]
  },
  {
   "cell_type": "code",
   "execution_count": 6,
   "id": "0a329d32",
   "metadata": {},
   "outputs": [
    {
     "data": {
      "text/plain": [
       "['Boots', 'jersey']"
      ]
     },
     "execution_count": 6,
     "metadata": {},
     "output_type": "execute_result"
    }
   ],
   "source": [
    "items[0:2]"
   ]
  },
  {
   "cell_type": "code",
   "execution_count": 7,
   "id": "27d79a30",
   "metadata": {},
   "outputs": [
    {
     "data": {
      "text/plain": [
       "['Boots', 'jersey', 'shorts', 'socks', 'ball', 'Shinpad']"
      ]
     },
     "execution_count": 7,
     "metadata": {},
     "output_type": "execute_result"
    }
   ],
   "source": [
    "items.append('Shinpad')\n",
    "items"
   ]
  },
  {
   "cell_type": "code",
   "execution_count": 8,
   "id": "f458c746",
   "metadata": {},
   "outputs": [
    {
     "data": {
      "text/plain": [
       "['Boots', 'jersey', 'shorts', 'socks', 'ball']"
      ]
     },
     "execution_count": 8,
     "metadata": {},
     "output_type": "execute_result"
    }
   ],
   "source": [
    "items = ['Boots', 'jersey', 'shorts', 'socks', 'ball']\n",
    "items"
   ]
  },
  {
   "cell_type": "code",
   "execution_count": 9,
   "id": "ddb028fd",
   "metadata": {},
   "outputs": [
    {
     "data": {
      "text/plain": [
       "['Boots', 'shinpads', 'jersey', 'shorts', 'socks', 'ball']"
      ]
     },
     "execution_count": 9,
     "metadata": {},
     "output_type": "execute_result"
    }
   ],
   "source": [
    "items.insert(1,'shinpads')\n",
    "items"
   ]
  },
  {
   "cell_type": "code",
   "execution_count": 10,
   "id": "37bf3420",
   "metadata": {},
   "outputs": [
    {
     "data": {
      "text/plain": [
       "['Boots', 'jersey', 'shorts', 'socks', 'ball']"
      ]
     },
     "execution_count": 10,
     "metadata": {},
     "output_type": "execute_result"
    }
   ],
   "source": [
    "items.remove('shinpads')\n",
    "items"
   ]
  },
  {
   "cell_type": "code",
   "execution_count": 11,
   "id": "71d81932",
   "metadata": {},
   "outputs": [
    {
     "ename": "NameError",
     "evalue": "name 'football' is not defined",
     "output_type": "error",
     "traceback": [
      "\u001b[1;31m---------------------------------------------------------------------------\u001b[0m",
      "\u001b[1;31mNameError\u001b[0m                                 Traceback (most recent call last)",
      "Cell \u001b[1;32mIn[11], line 1\u001b[0m\n\u001b[1;32m----> 1\u001b[0m football \u001b[38;5;129;01min\u001b[39;00m items\n",
      "\u001b[1;31mNameError\u001b[0m: name 'football' is not defined"
     ]
    }
   ],
   "source": [
    "football in items\n"
   ]
  },
  {
   "cell_type": "code",
   "execution_count": 12,
   "id": "6964a441",
   "metadata": {},
   "outputs": [
    {
     "ename": "NameError",
     "evalue": "name 'boots' is not defined",
     "output_type": "error",
     "traceback": [
      "\u001b[1;31m---------------------------------------------------------------------------\u001b[0m",
      "\u001b[1;31mNameError\u001b[0m                                 Traceback (most recent call last)",
      "Cell \u001b[1;32mIn[12], line 1\u001b[0m\n\u001b[1;32m----> 1\u001b[0m boots \u001b[38;5;129;01min\u001b[39;00m items\n\u001b[0;32m      2\u001b[0m items\n",
      "\u001b[1;31mNameError\u001b[0m: name 'boots' is not defined"
     ]
    }
   ],
   "source": [
    "boots in items\n",
    "items"
   ]
  },
  {
   "cell_type": "code",
   "execution_count": 13,
   "id": "a67c7723",
   "metadata": {},
   "outputs": [
    {
     "data": {
      "text/plain": [
       "['Boots', 'jersey', 'shorts', 'socks', 'ball']"
      ]
     },
     "execution_count": 13,
     "metadata": {},
     "output_type": "execute_result"
    }
   ],
   "source": [
    "items\n"
   ]
  },
  {
   "cell_type": "code",
   "execution_count": 15,
   "id": "cfeb2dd5",
   "metadata": {},
   "outputs": [
    {
     "data": {
      "text/plain": [
       "False"
      ]
     },
     "execution_count": 15,
     "metadata": {},
     "output_type": "execute_result"
    }
   ],
   "source": [
    "'boots' in items"
   ]
  },
  {
   "cell_type": "code",
   "execution_count": 16,
   "id": "98df6180",
   "metadata": {},
   "outputs": [
    {
     "data": {
      "text/plain": [
       "True"
      ]
     },
     "execution_count": 16,
     "metadata": {},
     "output_type": "execute_result"
    }
   ],
   "source": [
    "'Boots' in items"
   ]
  },
  {
   "cell_type": "code",
   "execution_count": 17,
   "id": "fd2eaeef",
   "metadata": {},
   "outputs": [
    {
     "data": {
      "text/plain": [
       "False"
      ]
     },
     "execution_count": 17,
     "metadata": {},
     "output_type": "execute_result"
    }
   ],
   "source": [
    "'Football' in items"
   ]
  },
  {
   "cell_type": "code",
   "execution_count": 18,
   "id": "6dac40f8",
   "metadata": {},
   "outputs": [
    {
     "data": {
      "text/plain": [
       "[1, 2, 8, 49, 50]"
      ]
     },
     "execution_count": 18,
     "metadata": {},
     "output_type": "execute_result"
    }
   ],
   "source": [
    "expense = [50,2,1,49,8]\n",
    "expense.sort()\n",
    "expense"
   ]
  },
  {
   "cell_type": "code",
   "execution_count": 19,
   "id": "11dc871a",
   "metadata": {},
   "outputs": [
    {
     "data": {
      "text/plain": [
       "['licci', 'grapes', 'soap', 'bucket']"
      ]
     },
     "execution_count": 19,
     "metadata": {},
     "output_type": "execute_result"
    }
   ],
   "source": [
    "food = ['licci', 'grapes']\n",
    "utensil = ['soap', 'bucket']\n",
    "demo = food + utensil\n",
    "demo"
   ]
  },
  {
   "cell_type": "code",
   "execution_count": 20,
   "id": "f0f57330",
   "metadata": {},
   "outputs": [
    {
     "data": {
      "text/plain": [
       "['Iron Man', 'Captain America', 'Black Widow', 'Hulk', 'Thor', 'Hawkeye']"
      ]
     },
     "execution_count": 20,
     "metadata": {},
     "output_type": "execute_result"
    }
   ],
   "source": [
    "avengers  = [\"Iron Man\", \"Captain America\", \"Black Widow\", \"Hulk\", \"Thor\", \"Hawkeye\"]\n",
    "avengers"
   ]
  },
  {
   "cell_type": "code",
   "execution_count": 21,
   "id": "15ef9995",
   "metadata": {},
   "outputs": [
    {
     "name": "stdout",
     "output_type": "stream",
     "text": [
      "6\n"
     ]
    }
   ],
   "source": [
    "print(len(avengers))"
   ]
  },
  {
   "cell_type": "code",
   "execution_count": 22,
   "id": "08fe684b",
   "metadata": {},
   "outputs": [
    {
     "data": {
      "text/plain": [
       "['Iron Man',\n",
       " 'Captain America',\n",
       " 'Black Widow',\n",
       " 'Hulk',\n",
       " 'Thor',\n",
       " 'Hawkeye',\n",
       " 'Spider Man']"
      ]
     },
     "execution_count": 22,
     "metadata": {},
     "output_type": "execute_result"
    }
   ],
   "source": [
    "avengers  = [\"Iron Man\", \"Captain America\", \"Black Widow\", \"Hulk\", \"Thor\", \"Hawkeye\"]\n",
    "avengers.append(\"Spider Man\")\n",
    "avengers"
   ]
  },
  {
   "cell_type": "code",
   "execution_count": 23,
   "id": "49cc87ee",
   "metadata": {},
   "outputs": [
    {
     "data": {
      "text/plain": [
       "['Iron Man', 'Black Widow', 'Hulk', 'Thor', 'Hawkeye', 'Spider Man']"
      ]
     },
     "execution_count": 23,
     "metadata": {},
     "output_type": "execute_result"
    }
   ],
   "source": [
    "avengers.remove(\"Captain America\")\n",
    "avengers"
   ]
  },
  {
   "cell_type": "code",
   "execution_count": 24,
   "id": "4e631466",
   "metadata": {},
   "outputs": [],
   "source": [
    "avengers.insert(0,\"Captain America\")"
   ]
  },
  {
   "cell_type": "code",
   "execution_count": 25,
   "id": "b010cc69",
   "metadata": {},
   "outputs": [
    {
     "data": {
      "text/plain": [
       "['Captain America',\n",
       " 'Iron Man',\n",
       " 'Black Widow',\n",
       " 'Hulk',\n",
       " 'Thor',\n",
       " 'Hawkeye',\n",
       " 'Spider Man']"
      ]
     },
     "execution_count": 25,
     "metadata": {},
     "output_type": "execute_result"
    }
   ],
   "source": [
    "avengers"
   ]
  },
  {
   "cell_type": "code",
   "execution_count": 26,
   "id": "e184b98f",
   "metadata": {},
   "outputs": [
    {
     "data": {
      "text/plain": [
       "['Captain America',\n",
       " 'Iron Man',\n",
       " 'Hulk',\n",
       " 'Black Widow',\n",
       " 'Thor',\n",
       " 'Hawkeye',\n",
       " 'Spider Man']"
      ]
     },
     "execution_count": 26,
     "metadata": {},
     "output_type": "execute_result"
    }
   ],
   "source": [
    "avengers.remove(\"Black Widow\")\n",
    "avengers\n",
    "avengers.insert(3,\"Black Widow\")\n",
    "avengers"
   ]
  },
  {
   "cell_type": "code",
   "execution_count": 27,
   "id": "e1fd12c0",
   "metadata": {},
   "outputs": [
    {
     "data": {
      "text/plain": [
       "[]"
      ]
     },
     "execution_count": 27,
     "metadata": {},
     "output_type": "execute_result"
    }
   ],
   "source": [
    "avengers.clear()\n",
    "avengers"
   ]
  },
  {
   "cell_type": "code",
   "execution_count": 28,
   "id": "77ba4feb",
   "metadata": {},
   "outputs": [
    {
     "data": {
      "text/plain": [
       "['Doctor Strange', 'Vision', 'Wanda', 'Kate Bishop', 'Ant Man']"
      ]
     },
     "execution_count": 28,
     "metadata": {},
     "output_type": "execute_result"
    }
   ],
   "source": [
    "avengers = [\"Doctor Strange\", \"Vision\", \"Wanda\", \"Kate Bishop\", \"Ant Man\"]\n",
    "avengers"
   ]
  },
  {
   "cell_type": "code",
   "execution_count": 29,
   "id": "fe348f0c",
   "metadata": {},
   "outputs": [
    {
     "data": {
      "text/plain": [
       "['Ant Man', 'Doctor Strange', 'Kate Bishop', 'Vision', 'Wanda']"
      ]
     },
     "execution_count": 29,
     "metadata": {},
     "output_type": "execute_result"
    }
   ],
   "source": [
    "avengers.sort()\n",
    "avengers"
   ]
  },
  {
   "cell_type": "code",
   "execution_count": null,
   "id": "e2805896",
   "metadata": {},
   "outputs": [],
   "source": []
  }
 ],
 "metadata": {
  "kernelspec": {
   "display_name": "Python 3 (ipykernel)",
   "language": "python",
   "name": "python3"
  },
  "language_info": {
   "codemirror_mode": {
    "name": "ipython",
    "version": 3
   },
   "file_extension": ".py",
   "mimetype": "text/x-python",
   "name": "python",
   "nbconvert_exporter": "python",
   "pygments_lexer": "ipython3",
   "version": "3.11.7"
  }
 },
 "nbformat": 4,
 "nbformat_minor": 5
}
