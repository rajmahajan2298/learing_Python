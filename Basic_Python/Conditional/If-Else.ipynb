{
 "cells": [
  {
   "cell_type": "code",
   "execution_count": 1,
   "id": "7744e25a",
   "metadata": {},
   "outputs": [],
   "source": [
    "#If-Else"
   ]
  },
  {
   "cell_type": "code",
   "execution_count": 3,
   "id": "90e5a7ec",
   "metadata": {},
   "outputs": [
    {
     "name": "stdout",
     "output_type": "stream",
     "text": [
      "Enter a number: 5\n",
      "Number is odd\n"
     ]
    }
   ],
   "source": [
    "n = input(\"Enter a number: \")\n",
    "n = int(n)\n",
    "\n",
    "if n % 2 == 0:\n",
    "    print(\"Number is even\")\n",
    "else:\n",
    "    print(\"Number is odd\")"
   ]
  },
  {
   "cell_type": "code",
   "execution_count": 4,
   "id": "13c499f2",
   "metadata": {},
   "outputs": [],
   "source": [
    "#If-Elif\n",
    "\n"
   ]
  },
  {
   "cell_type": "code",
   "execution_count": 9,
   "id": "04c24ee6",
   "metadata": {},
   "outputs": [
    {
     "name": "stdout",
     "output_type": "stream",
     "text": [
      "Enter your dish name: potato\n",
      "I dont know this cusine:\n"
     ]
    }
   ],
   "source": [
    "indian = ['samosa', 'poha', 'jalebi']\n",
    "italian = ['pasta', 'pizza', 'risotto']\n",
    "mexican = ['french fries', 'toco', 'burger']\n",
    "\n",
    "dish = input(\"Enter your dish name: \")\n",
    "\n",
    "if dish in indian:\n",
    "    print(f\"{dish} is indian\")\n",
    "elif dish in italian:\n",
    "    print(f\"{dish} is italian\")\n",
    "elif dish in mexican:\n",
    "    print(f\"{dish} is mexican\")\n",
    "else:\n",
    "    print(\"I dont know this cusine:\")\n",
    "    "
   ]
  },
  {
   "cell_type": "code",
   "execution_count": 10,
   "id": "2f2685b3",
   "metadata": {},
   "outputs": [],
   "source": [
    "#If-Else using Tenary Operator"
   ]
  },
  {
   "cell_type": "code",
   "execution_count": 13,
   "id": "9fd1e143",
   "metadata": {},
   "outputs": [
    {
     "name": "stdout",
     "output_type": "stream",
     "text": [
      "Enter Your Number: 2\n",
      "Number is odd\n"
     ]
    }
   ],
   "source": [
    "num = input(\"Enter Your Number: \")\n",
    "num = int(num)\n",
    "\n",
    "message = \"Number is even\" if n % 2 == 0 else \"Number is odd\"\n",
    "print(message)"
   ]
  },
  {
   "cell_type": "code",
   "execution_count": 16,
   "id": "bf27af6e",
   "metadata": {},
   "outputs": [
    {
     "name": "stdout",
     "output_type": "stream",
     "text": [
      "Enter your bp: 130\n",
      "Bp is not in normal range\n"
     ]
    }
   ],
   "source": [
    "bp = input(\"Enter your bp: \")\n",
    "bp = int(bp)\n",
    "\n",
    "if bp >= 80 and bp <= 120:\n",
    "    print(\"Bp is normal\")\n",
    "else:\n",
    "    print(\"Bp is not in normal range\")\n"
   ]
  },
  {
   "cell_type": "code",
   "execution_count": 2,
   "id": "45067077",
   "metadata": {},
   "outputs": [
    {
     "name": "stdout",
     "output_type": "stream",
     "text": [
      "Enter your height in meter: 162\n",
      "Enter your weight in KG: 59\n",
      "0\n"
     ]
    }
   ],
   "source": [
    "# BMI - Category -\n",
    "\n",
    "height = input(\"Enter your height in meter: \")\n",
    "weight = input(\"Enter your weight in KG: \")\n",
    "height = int(height)\n",
    "weight = float(weight)\n",
    "\n",
    "BMI = weight / (height**2)\n",
    "print(BMI)\n",
    "\n",
    "if BMI > 30:\n",
    "    print(\"Obesity\")\n",
    "elif BMI > 25 and BMI < 29:\n",
    "    print(\"Overweight\")\n",
    "elif BMI > 18 and BMI < 25.5:\n",
    "    print(\"Normal\")\n",
    "elif BMI > 18.5:\n",
    "    print(\"Underweight\")\n"
   ]
  },
  {
   "cell_type": "code",
   "execution_count": 27,
   "id": "bb606b96",
   "metadata": {},
   "outputs": [
    {
     "name": "stdout",
     "output_type": "stream",
     "text": [
      "Enter city name: Arsenal\n",
      "I don't know city\n"
     ]
    }
   ],
   "source": [
    "India = [\"Mumbai\", \"Bangalore\", \"Chennai\", \"Delhi\"]\n",
    "USA = [\"New York\",\"Chicago\",\"Las Vegas\", \"San Francisco\"]\n",
    "UK = [\"London\", \"Manchester\", \"Liverpool\", \"Nottingham\"]\n",
    "\n",
    "city = input(\"Enter city name: \")\n",
    "\n",
    "if city in India:\n",
    "    print(f\"{city} is in India\")\n",
    "elif city in USA:\n",
    "          print(f\"{city} is in USA\")\n",
    "elif city in UK:\n",
    "                print(f\"{city} is in UK\")\n",
    "else:\n",
    "                      print(\"I don't know city\")"
   ]
  },
  {
   "cell_type": "code",
   "execution_count": 3,
   "id": "db76eb71",
   "metadata": {},
   "outputs": [
    {
     "name": "stdout",
     "output_type": "stream",
     "text": [
      "Enter your first city name: Mumbai\n",
      "Enter your second city name: Delhi\n",
      "Mumbai and DelhiBoth are in same city\n"
     ]
    }
   ],
   "source": [
    "India = [\"Mumbai\", \"Bangalore\", \"Chennai\", \"Delhi\"]\n",
    "USA = [\"New York\",\"Chicago\",\"Las Vegas\", \"San Francisco\"]\n",
    "UK = [\"London\", \"Manchester\", \"Liverpool\", \"Nottingham\"]\n",
    "\n",
    "city = input(\"Enter your first city name: \")\n",
    "city_one = input(\"Enter your second city name: \")\n",
    "\n",
    "if city in India and city_one in India:\n",
    "    print(f\"{city} and {city_one}Both are in same city\")\n",
    "elif city in USA and city_one in USA:\n",
    "    print(f\"{city} and {city_one}Both are in same city\")\n",
    "elif city in UK and city_one in UK:\n",
    "    print(f\"{city} and {city_one}Both are in same city\")\n",
    "else:\n",
    "    print(\"Both city are not same\")"
   ]
  },
  {
   "cell_type": "code",
   "execution_count": null,
   "id": "d8c64baa",
   "metadata": {},
   "outputs": [],
   "source": []
  }
 ],
 "metadata": {
  "kernelspec": {
   "display_name": "Python 3 (ipykernel)",
   "language": "python",
   "name": "python3"
  },
  "language_info": {
   "codemirror_mode": {
    "name": "ipython",
    "version": 3
   },
   "file_extension": ".py",
   "mimetype": "text/x-python",
   "name": "python",
   "nbconvert_exporter": "python",
   "pygments_lexer": "ipython3",
   "version": "3.11.7"
  }
 },
 "nbformat": 4,
 "nbformat_minor": 5
}
