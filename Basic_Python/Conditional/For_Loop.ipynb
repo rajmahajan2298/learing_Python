{
 "cells": [
  {
   "cell_type": "code",
   "execution_count": 5,
   "id": "85c2729e",
   "metadata": {},
   "outputs": [
    {
     "name": "stdout",
     "output_type": "stream",
     "text": [
      "[1200, 1500, 1800, 1900, 2000]\n",
      "[1200, 1500, 1800, 1900, 2000]\n",
      "[1200, 1500, 1800, 1900, 2000]\n",
      "[1200, 1500, 1800, 1900, 2000]\n",
      "[1200, 1500, 1800, 1900, 2000]\n"
     ]
    }
   ],
   "source": [
    "#For_Loop -\n",
    "\n",
    "expenses = [1200, 1500, 1800, 1900, 2000]\n",
    "\n",
    "for expense in expenses:\n",
    "    print(expenses)"
   ]
  },
  {
   "cell_type": "code",
   "execution_count": 8,
   "id": "adab4086",
   "metadata": {},
   "outputs": [
    {
     "name": "stdout",
     "output_type": "stream",
     "text": [
      "8400\n"
     ]
    }
   ],
   "source": [
    "expenses = [1200, 1500, 1800, 1900, 2000]\n",
    "\n",
    "total_expense = 0\n",
    "\n",
    "for expense in expenses:\n",
    "    total_expense = total_expense + expense\n",
    "    \n",
    "print(total_expense)"
   ]
  },
  {
   "cell_type": "code",
   "execution_count": 12,
   "id": "f538d31d",
   "metadata": {},
   "outputs": [
    {
     "name": "stdout",
     "output_type": "stream",
     "text": [
      "0\n",
      "1200\n",
      "1\n",
      "1500\n",
      "2\n",
      "1800\n",
      "3\n",
      "1900\n",
      "4\n",
      "2000\n"
     ]
    }
   ],
   "source": [
    "expenses = [1200, 1500, 1800, 1900, 2000]\n",
    "\n",
    "total_expense = 0\n",
    "\n",
    "for i in range(len(expenses)):\n",
    "    print(i)\n",
    "    print(expenses[i])"
   ]
  },
  {
   "cell_type": "code",
   "execution_count": 14,
   "id": "10d788fb",
   "metadata": {},
   "outputs": [
    {
     "name": "stdout",
     "output_type": "stream",
     "text": [
      "Month: 1, Expense: 1200\n",
      "Month: 2, Expense: 1500\n",
      "Month: 3, Expense: 1800\n",
      "Month: 4, Expense: 1900\n",
      "Month: 5, Expense: 2000\n",
      "8400\n"
     ]
    }
   ],
   "source": [
    "expenses = [1200, 1500, 1800, 1900, 2000]\n",
    "\n",
    "total_expense = 0\n",
    "\n",
    "for i in range(len(expenses)):\n",
    "    expense = expenses[i]\n",
    "    print(f'Month: {i+1}, Expense: {expense}')\n",
    "    total_expense += expense\n",
    "    \n",
    "print(total_expense)"
   ]
  },
  {
   "cell_type": "code",
   "execution_count": 15,
   "id": "eeb9aeac",
   "metadata": {},
   "outputs": [
    {
     "name": "stdout",
     "output_type": "stream",
     "text": [
      "Month: 1, Expense: 1200\n",
      "Month: 2, Expense: 1500\n",
      "Month: 3, Expense: 1800\n",
      "Month: 4, Expense: 1900\n",
      "Month: 5, Expense: 2000\n",
      "8400\n"
     ]
    }
   ],
   "source": [
    "expenses = [1200, 1500, 1800, 1900, 2000]\n",
    "\n",
    "total_expense = 0\n",
    "\n",
    "for i,expense in enumerate(expenses):\n",
    "    print(f\"Month: {i+1}, Expense: {expense}\")\n",
    "    total_expense += expense\n",
    "\n",
    "print(total_expense)"
   ]
  },
  {
   "cell_type": "code",
   "execution_count": 20,
   "id": "b87f79ed",
   "metadata": {},
   "outputs": [
    {
     "name": "stdout",
     "output_type": "stream",
     "text": [
      "Month: 6, Expense: 3200\n"
     ]
    }
   ],
   "source": [
    "expenses = [1200, 1500, 1800, 1900, 2000,3200,2100]\n",
    "\n",
    "total_expense = 0\n",
    "\n",
    "for i,expense in enumerate(expenses):\n",
    "    if expense > 2000:\n",
    "         print(f\"Month: {i+1}, Expense: {expense}\")\n",
    "         break\n",
    "        \n",
    "         \n",
    "\n",
    "    "
   ]
  },
  {
   "cell_type": "code",
   "execution_count": 22,
   "id": "587415fb",
   "metadata": {},
   "outputs": [
    {
     "name": "stdout",
     "output_type": "stream",
     "text": [
      "key is not found at sofa\n",
      "key is not found at garage\n",
      "key is found at chair\n"
     ]
    }
   ],
   "source": [
    "locations = [\"sofa\", \"garage\", \"chair\", \"table\", \"closet\"]\n",
    "key_location = \"chair\"\n",
    "\n",
    "for location in locations:\n",
    "    if location == key_location:\n",
    "        print(f\"key is found at {key_location}\")\n",
    "        break\n",
    "    else:\n",
    "        print(f\"key is not found at {location}\")"
   ]
  },
  {
   "cell_type": "code",
   "execution_count": 25,
   "id": "a772d9ce",
   "metadata": {},
   "outputs": [
    {
     "name": "stdout",
     "output_type": "stream",
     "text": [
      "1\n",
      "3\n",
      "5\n",
      "7\n",
      "9\n"
     ]
    }
   ],
   "source": [
    "for i in range(1,11):\n",
    "    if i % 2 == 0:\n",
    "        continue\n",
    "    print(i)"
   ]
  },
  {
   "cell_type": "code",
   "execution_count": 26,
   "id": "1c757b6f",
   "metadata": {},
   "outputs": [
    {
     "name": "stdout",
     "output_type": "stream",
     "text": [
      "101\n"
     ]
    }
   ],
   "source": [
    "x = -1\n",
    "while x <=99:\n",
    "  x += 2\n",
    "print(x)"
   ]
  },
  {
   "cell_type": "code",
   "execution_count": 27,
   "id": "d8b64bde",
   "metadata": {},
   "outputs": [
    {
     "name": "stdout",
     "output_type": "stream",
     "text": [
      "SkllBascs"
     ]
    }
   ],
   "source": [
    "for l in 'SkillBasics':\n",
    "    if l == 'i':\n",
    "        continue\n",
    "    print(l, end='')"
   ]
  },
  {
   "cell_type": "code",
   "execution_count": 28,
   "id": "9163cf7b",
   "metadata": {},
   "outputs": [
    {
     "name": "stdout",
     "output_type": "stream",
     "text": [
      "1, -1, -3, -5, "
     ]
    }
   ],
   "source": [
    "for n in range(1, -6, -2):\n",
    "    print(n, end=', ')"
   ]
  },
  {
   "cell_type": "code",
   "execution_count": 29,
   "id": "5c74fddf",
   "metadata": {},
   "outputs": [],
   "source": [
    "count=0\n",
    "transactions = [(456, 'f'), (457, 'n'), (458, 'w'), (459, 'f')]\n",
    "for transaction in transactions:\n",
    "    if transaction[1]!='f':\n",
    "        count+=1"
   ]
  },
  {
   "cell_type": "code",
   "execution_count": null,
   "id": "87abf9ad",
   "metadata": {},
   "outputs": [],
   "source": []
  }
 ],
 "metadata": {
  "kernelspec": {
   "display_name": "Python 3 (ipykernel)",
   "language": "python",
   "name": "python3"
  },
  "language_info": {
   "codemirror_mode": {
    "name": "ipython",
    "version": 3
   },
   "file_extension": ".py",
   "mimetype": "text/x-python",
   "name": "python",
   "nbconvert_exporter": "python",
   "pygments_lexer": "ipython3",
   "version": "3.11.7"
  }
 },
 "nbformat": 4,
 "nbformat_minor": 5
}
