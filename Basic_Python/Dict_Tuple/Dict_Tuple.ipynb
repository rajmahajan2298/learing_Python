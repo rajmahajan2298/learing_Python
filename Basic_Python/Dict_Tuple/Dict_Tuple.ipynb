{
 "cells": [
  {
   "cell_type": "code",
   "execution_count": 2,
   "id": "200de8df",
   "metadata": {},
   "outputs": [
    {
     "data": {
      "text/plain": [
       "5"
      ]
     },
     "execution_count": 2,
     "metadata": {},
     "output_type": "execute_result"
    }
   ],
   "source": [
    "point=(5,6)\n",
    "point[0]"
   ]
  },
  {
   "cell_type": "code",
   "execution_count": 4,
   "id": "46379f37",
   "metadata": {},
   "outputs": [],
   "source": [
    "d = {\n",
    "    'raj': 99999999999,\n",
    "    'xavi': 8888888888,\n",
    "    'nanu': 7777777777\n",
    "}"
   ]
  },
  {
   "cell_type": "code",
   "execution_count": 5,
   "id": "55038acb",
   "metadata": {},
   "outputs": [
    {
     "data": {
      "text/plain": [
       "99999999999"
      ]
     },
     "execution_count": 5,
     "metadata": {},
     "output_type": "execute_result"
    }
   ],
   "source": [
    "d['raj']"
   ]
  },
  {
   "cell_type": "code",
   "execution_count": 6,
   "id": "556fb57c",
   "metadata": {},
   "outputs": [
    {
     "data": {
      "text/plain": [
       "7777777777"
      ]
     },
     "execution_count": 6,
     "metadata": {},
     "output_type": "execute_result"
    }
   ],
   "source": [
    "d['nanu']"
   ]
  },
  {
   "cell_type": "code",
   "execution_count": 8,
   "id": "1f285af1",
   "metadata": {},
   "outputs": [
    {
     "ename": "TypeError",
     "evalue": "unhashable type: 'slice'",
     "output_type": "error",
     "traceback": [
      "\u001b[1;31m---------------------------------------------------------------------------\u001b[0m",
      "\u001b[1;31mTypeError\u001b[0m                                 Traceback (most recent call last)",
      "Cell \u001b[1;32mIn[8], line 2\u001b[0m\n\u001b[0;32m      1\u001b[0m d \u001b[38;5;241m=\u001b[39m {\u001b[38;5;124m'\u001b[39m\u001b[38;5;124mLuke\u001b[39m\u001b[38;5;124m'\u001b[39m: \u001b[38;5;241m1994\u001b[39m, \u001b[38;5;124m'\u001b[39m\u001b[38;5;124mBoba\u001b[39m\u001b[38;5;124m'\u001b[39m: \u001b[38;5;241m1989\u001b[39m, \u001b[38;5;124m'\u001b[39m\u001b[38;5;124mKyle\u001b[39m\u001b[38;5;124m'\u001b[39m: \u001b[38;5;241m1998\u001b[39m, \u001b[38;5;124m'\u001b[39m\u001b[38;5;124mHann\u001b[39m\u001b[38;5;124m'\u001b[39m: \u001b[38;5;241m1993\u001b[39m}\n\u001b[1;32m----> 2\u001b[0m \u001b[38;5;28mprint\u001b[39m(d[\u001b[38;5;124m'\u001b[39m\u001b[38;5;124mBoba\u001b[39m\u001b[38;5;124m'\u001b[39m : \u001b[38;5;124m'\u001b[39m\u001b[38;5;124mKyle\u001b[39m\u001b[38;5;124m'\u001b[39m])\n",
      "\u001b[1;31mTypeError\u001b[0m: unhashable type: 'slice'"
     ]
    }
   ],
   "source": [
    "d = {'Luke': 1994, 'Boba': 1989, 'Kyle': 1998, 'Hann': 1993}\n",
    "print(d['Boba' : 'Kyle'])"
   ]
  },
  {
   "cell_type": "code",
   "execution_count": 9,
   "id": "57686695",
   "metadata": {},
   "outputs": [],
   "source": [
    "salaries = {\n",
    "\t'python': { 'junior': '100k', 'senior': '600k' },\n",
    "\t'php': { 'junior': '70k', 'senior': '400k' },\n",
    "\t'java': { 'junior': '80k', 'senior': '500k' },\n",
    "\t}\n"
   ]
  },
  {
   "cell_type": "code",
   "execution_count": 10,
   "id": "65be8238",
   "metadata": {},
   "outputs": [
    {
     "data": {
      "text/plain": [
       "'400k'"
      ]
     },
     "execution_count": 10,
     "metadata": {},
     "output_type": "execute_result"
    }
   ],
   "source": [
    "salaries['php']['senior']"
   ]
  },
  {
   "cell_type": "code",
   "execution_count": 11,
   "id": "25a5da82",
   "metadata": {},
   "outputs": [
    {
     "ename": "TypeError",
     "evalue": "'tuple' object does not support item assignment",
     "output_type": "error",
     "traceback": [
      "\u001b[1;31m---------------------------------------------------------------------------\u001b[0m",
      "\u001b[1;31mTypeError\u001b[0m                                 Traceback (most recent call last)",
      "Cell \u001b[1;32mIn[11], line 2\u001b[0m\n\u001b[0;32m      1\u001b[0m person_info \u001b[38;5;241m=\u001b[39m (\u001b[38;5;124m\"\u001b[39m\u001b[38;5;124mbob gupta\u001b[39m\u001b[38;5;124m\"\u001b[39m, \u001b[38;5;241m52\u001b[39m, \u001b[38;5;124m\"\u001b[39m\u001b[38;5;124m1 free street, mumbai\u001b[39m\u001b[38;5;124m\"\u001b[39m)\n\u001b[1;32m----> 2\u001b[0m person_info[\u001b[38;5;241m1\u001b[39m] \u001b[38;5;241m=\u001b[39m \u001b[38;5;241m54\u001b[39m\n",
      "\u001b[1;31mTypeError\u001b[0m: 'tuple' object does not support item assignment"
     ]
    }
   ],
   "source": [
    "person_info = (\"bob gupta\", 52, \"1 free street, mumbai\")\n",
    "person_info[1] = 54"
   ]
  },
  {
   "cell_type": "code",
   "execution_count": 14,
   "id": "59296b65",
   "metadata": {},
   "outputs": [],
   "source": [
    "list = ['Pawan', 'Shivani', 'Nanu', 'Xavi', 'Babua', 'Pujju', 'Nitanshu']\n",
    "d = [('Pawan',1),('Shivani',2),('Nanu',3),('Babua',4),('Xavi',5),('Aditya',6)]"
   ]
  },
  {
   "cell_type": "code",
   "execution_count": 15,
   "id": "d9799245",
   "metadata": {},
   "outputs": [
    {
     "data": {
      "text/plain": [
       "[('Pawan', 1),\n",
       " ('Shivani', 2),\n",
       " ('Nanu', 3),\n",
       " ('Babua', 4),\n",
       " ('Xavi', 5),\n",
       " ('Aditya', 6)]"
      ]
     },
     "execution_count": 15,
     "metadata": {},
     "output_type": "execute_result"
    }
   ],
   "source": [
    "d"
   ]
  },
  {
   "cell_type": "code",
   "execution_count": 16,
   "id": "ee0230f0",
   "metadata": {},
   "outputs": [
    {
     "ename": "TypeError",
     "evalue": "list indices must be integers or slices, not str",
     "output_type": "error",
     "traceback": [
      "\u001b[1;31m---------------------------------------------------------------------------\u001b[0m",
      "\u001b[1;31mTypeError\u001b[0m                                 Traceback (most recent call last)",
      "Cell \u001b[1;32mIn[16], line 1\u001b[0m\n\u001b[1;32m----> 1\u001b[0m d[\u001b[38;5;124m'\u001b[39m\u001b[38;5;124mAditya\u001b[39m\u001b[38;5;124m'\u001b[39m]\n",
      "\u001b[1;31mTypeError\u001b[0m: list indices must be integers or slices, not str"
     ]
    }
   ],
   "source": [
    "d['Aditya']"
   ]
  },
  {
   "cell_type": "code",
   "execution_count": 18,
   "id": "c335c78d",
   "metadata": {},
   "outputs": [
    {
     "data": {
      "text/plain": [
       "('Pawan', 1)"
      ]
     },
     "execution_count": 18,
     "metadata": {},
     "output_type": "execute_result"
    }
   ],
   "source": [
    "d[0]"
   ]
  },
  {
   "cell_type": "markdown",
   "id": "ccba024b",
   "metadata": {},
   "source": [
    "d[5]"
   ]
  },
  {
   "cell_type": "code",
   "execution_count": 19,
   "id": "a979e8bb",
   "metadata": {},
   "outputs": [
    {
     "data": {
      "text/plain": [
       "('Aditya', 6)"
      ]
     },
     "execution_count": 19,
     "metadata": {},
     "output_type": "execute_result"
    }
   ],
   "source": [
    "d[5]"
   ]
  },
  {
   "cell_type": "code",
   "execution_count": 20,
   "id": "65820a10",
   "metadata": {},
   "outputs": [],
   "source": [
    "my_expense = {\n",
    "    'clothes': 1100,\n",
    "    'shoes': 1000,\n",
    "    'watch': 900,\n",
    "    'mobile recharge': 699,\n",
    "    'petrol': 1900\n",
    "}\n",
    "\n",
    "my_wife = {\n",
    "    'mobile recharge': 799,\n",
    "    'dth recharge': 999,\n",
    "    'clothes': 2310,\n",
    "    'makeup': 3670,\n",
    "    'shoes': 999\n",
    "}"
   ]
  },
  {
   "cell_type": "code",
   "execution_count": 21,
   "id": "c09b7745",
   "metadata": {},
   "outputs": [
    {
     "data": {
      "text/plain": [
       "{'clothes': 1100,\n",
       " 'shoes': 1000,\n",
       " 'watch': 900,\n",
       " 'mobile recharge': 699,\n",
       " 'petrol': 1900}"
      ]
     },
     "execution_count": 21,
     "metadata": {},
     "output_type": "execute_result"
    }
   ],
   "source": [
    "my_expense"
   ]
  },
  {
   "cell_type": "code",
   "execution_count": 22,
   "id": "c31f89a7",
   "metadata": {},
   "outputs": [
    {
     "data": {
      "text/plain": [
       "{'mobile recharge': 799,\n",
       " 'dth recharge': 999,\n",
       " 'clothes': 2310,\n",
       " 'makeup': 3670,\n",
       " 'shoes': 999}"
      ]
     },
     "execution_count": 22,
     "metadata": {},
     "output_type": "execute_result"
    }
   ],
   "source": [
    "my_wife"
   ]
  },
  {
   "cell_type": "code",
   "execution_count": 24,
   "id": "a08850ff",
   "metadata": {},
   "outputs": [
    {
     "name": "stdout",
     "output_type": "stream",
     "text": [
      "my_expense:  5599\n"
     ]
    }
   ],
   "source": [
    "def returnSum(my_expense):\n",
    " \n",
    "    sum = 0\n",
    "    for i in my_expense.values():\n",
    "        sum = sum + i\n",
    " \n",
    "    return sum\n",
    "\n",
    "my_expense = {\n",
    "    'clothes': 1100,\n",
    "    'shoes': 1000,\n",
    "    'watch': 900,\n",
    "    'mobile recharge': 699,\n",
    "    'petrol': 1900\n",
    "}\n",
    "print(\"my_expense: \", returnSum(my_expense))"
   ]
  },
  {
   "cell_type": "code",
   "execution_count": 25,
   "id": "6c147c7e",
   "metadata": {},
   "outputs": [
    {
     "name": "stdout",
     "output_type": "stream",
     "text": [
      "my_wife:  8777\n"
     ]
    }
   ],
   "source": [
    "def returnSum1(my_wife):\n",
    "    sum = 0\n",
    "    for i in my_wife.values():\n",
    "        sum = sum + i\n",
    " \n",
    "    return sum\n",
    "\n",
    "my_wife = {\n",
    "    'mobile recharge': 799,\n",
    "    'dth recharge': 999,\n",
    "    'clothes': 2310,\n",
    "    'makeup': 3670,\n",
    "    'shoes': 999\n",
    "}\n",
    "\n",
    "print(\"my_wife: \", returnSum1(my_wife))"
   ]
  },
  {
   "cell_type": "code",
   "execution_count": null,
   "id": "e942c2e4",
   "metadata": {},
   "outputs": [],
   "source": []
  }
 ],
 "metadata": {
  "kernelspec": {
   "display_name": "Python 3 (ipykernel)",
   "language": "python",
   "name": "python3"
  },
  "language_info": {
   "codemirror_mode": {
    "name": "ipython",
    "version": 3
   },
   "file_extension": ".py",
   "mimetype": "text/x-python",
   "name": "python",
   "nbconvert_exporter": "python",
   "pygments_lexer": "ipython3",
   "version": "3.11.7"
  }
 },
 "nbformat": 4,
 "nbformat_minor": 5
}
