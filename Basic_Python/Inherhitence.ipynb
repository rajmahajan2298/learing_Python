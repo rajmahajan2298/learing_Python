{
 "cells": [
  {
   "cell_type": "code",
   "execution_count": 1,
   "id": "a5873fca",
   "metadata": {},
   "outputs": [
    {
     "name": "stdout",
     "output_type": "stream",
     "text": [
      "<__main__.MobilePhone object at 0x000002872D77D8D0>\n"
     ]
    }
   ],
   "source": [
    "class MobilePhone:\n",
    "    def __init__(self,screenType, networkType,dualSim,fcamera,rcamera,ram,stroage):\n",
    "        self.screenType = screenType\n",
    "        self.networkType = networkType\n",
    "        self.daulSim = dualSim\n",
    "        self.fcamera = fcamera\n",
    "        self.rcamera = rcamera\n",
    "        self.ram = ram\n",
    "        self.storage = stroage\n",
    "\n",
    "    def make_a_call(self):\n",
    "        pass\n",
    "    def recieve_a_call(self):\n",
    "        pass\n",
    "    def take_a_picture(self):\n",
    "        pass\n",
    "\n",
    "class Apple(MobilePhone):\n",
    "    def __init__(self,smart, Ai,screenType, networkType,dualSim,fcamera,rcamera,ram,stroage):\n",
    "        self.smart = smart\n",
    "        self.Ai = Ai\n",
    "        MobilePhone.__init__(screenType, networkType,dualSim,fcamera,rcamera,ram,stroage)\n",
    "\n",
    "class Samasung(MobilePhone):\n",
    "    def __init_(self,flip, series,screenType, networkType,dualSim,fcamera,rcamera,ram,stroage):\n",
    "        self.flip = flip\n",
    "        self.series = series\n",
    "        MobilePhone.__init__(screenType, networkType, dualSim, fcamera, rcamera, ram, stroage)\n",
    "\n",
    "Type = MobilePhone('TouchScreen', 4, True, 12, 32, 4, 32)\n",
    "print(Type)"
   ]
  },
  {
   "cell_type": "code",
   "execution_count": null,
   "id": "5bbe55df",
   "metadata": {},
   "outputs": [],
   "source": []
  }
 ],
 "metadata": {
  "kernelspec": {
   "display_name": "Python 3 (ipykernel)",
   "language": "python",
   "name": "python3"
  },
  "language_info": {
   "codemirror_mode": {
    "name": "ipython",
    "version": 3
   },
   "file_extension": ".py",
   "mimetype": "text/x-python",
   "name": "python",
   "nbconvert_exporter": "python",
   "pygments_lexer": "ipython3",
   "version": "3.11.7"
  }
 },
 "nbformat": 4,
 "nbformat_minor": 5
}
