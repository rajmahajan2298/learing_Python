{
 "cells": [
  {
   "cell_type": "code",
   "execution_count": 1,
   "id": "d91e0285",
   "metadata": {},
   "outputs": [],
   "source": [
    "# Functions in Pyhon"
   ]
  },
  {
   "cell_type": "code",
   "execution_count": 2,
   "id": "fe4cd2eb",
   "metadata": {},
   "outputs": [
    {
     "name": "stdout",
     "output_type": "stream",
     "text": [
      "expense of raj is [30, 45, 70, 90]\n",
      "expense of ode is [40, 23, 10, 85]\n"
     ]
    }
   ],
   "source": [
    "def find_total(expenses):\n",
    "    total = 0\n",
    "    for expense in expenses:\n",
    "        total += expense\n",
    "    \n",
    "    return total\n",
    "\n",
    "expense_raj = [30, 45, 70, 90]\n",
    "expense_ode = [40, 23, 10, 85]\n",
    "\n",
    "total = find_total(expense_raj)\n",
    "print(f\"expense of raj is {expense_raj}\")\n",
    "\n",
    "total = find_total(expense_ode)\n",
    "print(f\"expense of ode is {expense_ode}\")"
   ]
  },
  {
   "cell_type": "code",
   "execution_count": 7,
   "id": "48d6309f",
   "metadata": {},
   "outputs": [
    {
     "name": "stdout",
     "output_type": "stream",
     "text": [
      "radius of the cylinder is: 5\n",
      "height of the cylinder is: 10\n",
      "785.0\n"
     ]
    }
   ],
   "source": [
    "#Find Volume of the cyclinder -\n",
    "\n",
    "def find_volume(r,h):\n",
    "    print(\"radius of the cylinder is:\", r)\n",
    "    print(\"height of the cylinder is:\", h)\n",
    "    vol = 3.14 * (r**2) * h\n",
    "    return vol\n",
    "\n",
    "r = 5\n",
    "h = 10\n",
    "print(find_volume(r,h))"
   ]
  },
  {
   "cell_type": "code",
   "execution_count": null,
   "id": "9a71e702",
   "metadata": {},
   "outputs": [],
   "source": []
  }
 ],
 "metadata": {
  "kernelspec": {
   "display_name": "Python 3 (ipykernel)",
   "language": "python",
   "name": "python3"
  },
  "language_info": {
   "codemirror_mode": {
    "name": "ipython",
    "version": 3
   },
   "file_extension": ".py",
   "mimetype": "text/x-python",
   "name": "python",
   "nbconvert_exporter": "python",
   "pygments_lexer": "ipython3",
   "version": "3.11.7"
  }
 },
 "nbformat": 4,
 "nbformat_minor": 5
}
