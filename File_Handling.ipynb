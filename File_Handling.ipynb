{
 "cells": [
  {
   "cell_type": "code",
   "execution_count": 7,
   "id": "7f366acd",
   "metadata": {},
   "outputs": [
    {
     "name": "stdout",
     "output_type": "stream",
     "text": [
      "My name is Raj Mahajan\n",
      "\n",
      "I'm a Software Engineer\n",
      "\n",
      "I'm working in Mphasis Pvt Ltd\n",
      "\n",
      "Machine Learning & Data Science Entahustic\n"
     ]
    }
   ],
   "source": [
    "#Read File - \n",
    "\n",
    "f = open(\"D:\\\\Python\\\\name.txt\", \"r\")\n",
    "\n",
    "for line in f:\n",
    "    print(line)\n",
    "    \n",
    "f.close()"
   ]
  },
  {
   "cell_type": "code",
   "execution_count": 8,
   "id": "065cc615",
   "metadata": {},
   "outputs": [
    {
     "name": "stdout",
     "output_type": "stream",
     "text": [
      "My name is Raj Mahajan\n",
      "\n",
      "I'm a Software Engineer\n",
      "\n",
      "I'm working in Mphasis Pvt Ltd\n",
      "\n",
      "Machine Learning & Data Science Entahustic\n"
     ]
    }
   ],
   "source": [
    "with open(\"D:\\\\Python\\\\name.txt\", \"r\") as d:\n",
    "    for line in d:\n",
    "        print(line)"
   ]
  },
  {
   "cell_type": "code",
   "execution_count": 9,
   "id": "77438b1c",
   "metadata": {},
   "outputs": [
    {
     "ename": "SyntaxError",
     "evalue": "incomplete input (2148298875.py, line 1)",
     "output_type": "error",
     "traceback": [
      "\u001b[1;36m  Cell \u001b[1;32mIn[9], line 1\u001b[1;36m\u001b[0m\n\u001b[1;33m    with open(\"D:\\\\Python\\\\name.txt\", \"r\") as d:\u001b[0m\n\u001b[1;37m                                                ^\u001b[0m\n\u001b[1;31mSyntaxError\u001b[0m\u001b[1;31m:\u001b[0m incomplete input\n"
     ]
    }
   ],
   "source": [
    "with open(\"D:\\\\Python\\\\name.txt\", \"r\") as d:"
   ]
  },
  {
   "cell_type": "code",
   "execution_count": 12,
   "id": "33c79039",
   "metadata": {},
   "outputs": [
    {
     "name": "stdout",
     "output_type": "stream",
     "text": [
      "['My name is Raj Mahajan\\n', \"I'm a Software Engineer\\n\", \"I'm working in Mphasis Pvt Ltd\\n\", 'Machine Learning & Data Science Entahustic']\n"
     ]
    }
   ],
   "source": [
    "with open(\"D:\\\\Python\\\\name.txt\", \"r\") as d:\n",
    "    lines = d.readlines()\n",
    "    print(lines)"
   ]
  },
  {
   "cell_type": "code",
   "execution_count": 17,
   "id": "2d6ff611",
   "metadata": {},
   "outputs": [],
   "source": [
    "# Write File -\n",
    "\n",
    "with open(\"D:\\\\Python\\\\love.txt\", \"w\") as f:\n",
    "    f.write(\"I Love Python\")\n",
    "    \n",
    "# Append File -\n",
    "\n",
    "with open(\"D:\\\\Python\\\\love.txt\", \"a\") as f:\n",
    "    f.write(\"\\nI Love Javascript\")\n"
   ]
  },
  {
   "cell_type": "code",
   "execution_count": 30,
   "id": "68c34a86",
   "metadata": {},
   "outputs": [
    {
     "name": "stdout",
     "output_type": "stream",
     "text": [
      "Rohit [9, 42, 53, 69, 21, 120, 145]\n",
      "Kohli [20, 41, 62, 21, 98, 100, 176]\n",
      "Rahul [30, 38, 72, 83, 97, 125, 198]\n",
      "Rahul ==> Min: 30, Max: 198, Avg: 91.85714285714286\n"
     ]
    }
   ],
   "source": [
    "player_scores = {}\n",
    "\n",
    "with open(\"D:\\\\Python\\\\scores.csv\", \"r\") as f:\n",
    "    for line in f:\n",
    "        player, score = line.split(',')\n",
    "        score = int(score)\n",
    "        \n",
    "        if player in player_scores:\n",
    "            player_scores[player].append(score)\n",
    "        else:\n",
    "            player_scores[player] = [score]\n",
    "\n",
    "for players, score_list in player_scores.items():\n",
    "    print(players, score_list)\n",
    "    min_score = min(score_list)\n",
    "    max_score = max(score_list)\n",
    "    avg_score = sum(score_list)/len(score_list)\n",
    "\n",
    "print(f\"{players} ==> Min: {min_score}, Max: {max_score}, Avg: {avg_score}\")"
   ]
  },
  {
   "cell_type": "code",
   "execution_count": null,
   "id": "600f7c4e",
   "metadata": {},
   "outputs": [],
   "source": []
  }
 ],
 "metadata": {
  "kernelspec": {
   "display_name": "Python 3 (ipykernel)",
   "language": "python",
   "name": "python3"
  },
  "language_info": {
   "codemirror_mode": {
    "name": "ipython",
    "version": 3
   },
   "file_extension": ".py",
   "mimetype": "text/x-python",
   "name": "python",
   "nbconvert_exporter": "python",
   "pygments_lexer": "ipython3",
   "version": "3.11.7"
  }
 },
 "nbformat": 4,
 "nbformat_minor": 5
}
