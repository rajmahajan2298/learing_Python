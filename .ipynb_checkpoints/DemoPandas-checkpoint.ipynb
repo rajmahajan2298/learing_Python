{
 "cells": [
  {
   "cell_type": "code",
   "execution_count": 1,
   "id": "9b086111-a889-45e6-a959-6d78db6d3d5d",
   "metadata": {},
   "outputs": [],
   "source": [
    "import pandas as pd;"
   ]
  },
  {
   "cell_type": "code",
   "execution_count": 2,
   "id": "abcbb082-3e05-4a2f-a46a-a3020a1a57d1",
   "metadata": {},
   "outputs": [],
   "source": [
    "df = pd.DataFrame(\n",
    "    {\n",
    "        \"Name\": [\n",
    "            \"Braund, Mr. Owen Harris\",\n",
    "            \"Allen, Mr. William Henry\",\n",
    "            \"Bonnell, Miss. Elizabeth\",\n",
    "        ],\n",
    "        \"Age\": [22, 35, 58],\n",
    "        \"Sex\": [\"male\", \"male\", \"female\"],\n",
    "    }\n",
    ")"
   ]
  },
  {
   "cell_type": "code",
   "execution_count": 3,
   "id": "768714c9-b26c-461b-af8a-0f6d30f81b1c",
   "metadata": {},
   "outputs": [
    {
     "data": {
      "text/html": [
       "<div>\n",
       "<style scoped>\n",
       "    .dataframe tbody tr th:only-of-type {\n",
       "        vertical-align: middle;\n",
       "    }\n",
       "\n",
       "    .dataframe tbody tr th {\n",
       "        vertical-align: top;\n",
       "    }\n",
       "\n",
       "    .dataframe thead th {\n",
       "        text-align: right;\n",
       "    }\n",
       "</style>\n",
       "<table border=\"1\" class=\"dataframe\">\n",
       "  <thead>\n",
       "    <tr style=\"text-align: right;\">\n",
       "      <th></th>\n",
       "      <th>Name</th>\n",
       "      <th>Age</th>\n",
       "      <th>Sex</th>\n",
       "    </tr>\n",
       "  </thead>\n",
       "  <tbody>\n",
       "    <tr>\n",
       "      <th>0</th>\n",
       "      <td>Braund, Mr. Owen Harris</td>\n",
       "      <td>22</td>\n",
       "      <td>male</td>\n",
       "    </tr>\n",
       "    <tr>\n",
       "      <th>1</th>\n",
       "      <td>Allen, Mr. William Henry</td>\n",
       "      <td>35</td>\n",
       "      <td>male</td>\n",
       "    </tr>\n",
       "    <tr>\n",
       "      <th>2</th>\n",
       "      <td>Bonnell, Miss. Elizabeth</td>\n",
       "      <td>58</td>\n",
       "      <td>female</td>\n",
       "    </tr>\n",
       "  </tbody>\n",
       "</table>\n",
       "</div>"
      ],
      "text/plain": [
       "                       Name  Age     Sex\n",
       "0   Braund, Mr. Owen Harris   22    male\n",
       "1  Allen, Mr. William Henry   35    male\n",
       "2  Bonnell, Miss. Elizabeth   58  female"
      ]
     },
     "execution_count": 3,
     "metadata": {},
     "output_type": "execute_result"
    }
   ],
   "source": [
    "df"
   ]
  },
  {
   "cell_type": "code",
   "execution_count": 4,
   "id": "679be51e-467d-45a0-8c02-2172d2c8e37a",
   "metadata": {},
   "outputs": [
    {
     "data": {
      "text/plain": [
       "0    22\n",
       "1    35\n",
       "2    58\n",
       "Name: Age, dtype: int64"
      ]
     },
     "execution_count": 4,
     "metadata": {},
     "output_type": "execute_result"
    }
   ],
   "source": [
    "df[\"Age\"]"
   ]
  },
  {
   "cell_type": "code",
   "execution_count": 5,
   "id": "42ded8ef-d879-4df5-8df0-c63603e4075a",
   "metadata": {},
   "outputs": [
    {
     "data": {
      "text/plain": [
       "0     Braund, Mr. Owen Harris\n",
       "1    Allen, Mr. William Henry\n",
       "2    Bonnell, Miss. Elizabeth\n",
       "Name: Name, dtype: object"
      ]
     },
     "execution_count": 5,
     "metadata": {},
     "output_type": "execute_result"
    }
   ],
   "source": [
    "df[\"Name\"]\n"
   ]
  },
  {
   "cell_type": "code",
   "execution_count": 6,
   "id": "bbb7a58b-4d64-4d70-a1bc-4a9d5567b58f",
   "metadata": {},
   "outputs": [
    {
     "data": {
      "text/html": [
       "<div>\n",
       "<style scoped>\n",
       "    .dataframe tbody tr th:only-of-type {\n",
       "        vertical-align: middle;\n",
       "    }\n",
       "\n",
       "    .dataframe tbody tr th {\n",
       "        vertical-align: top;\n",
       "    }\n",
       "\n",
       "    .dataframe thead th {\n",
       "        text-align: right;\n",
       "    }\n",
       "</style>\n",
       "<table border=\"1\" class=\"dataframe\">\n",
       "  <thead>\n",
       "    <tr style=\"text-align: right;\">\n",
       "      <th></th>\n",
       "      <th>Age</th>\n",
       "    </tr>\n",
       "  </thead>\n",
       "  <tbody>\n",
       "    <tr>\n",
       "      <th>count</th>\n",
       "      <td>3.000000</td>\n",
       "    </tr>\n",
       "    <tr>\n",
       "      <th>mean</th>\n",
       "      <td>38.333333</td>\n",
       "    </tr>\n",
       "    <tr>\n",
       "      <th>std</th>\n",
       "      <td>18.230012</td>\n",
       "    </tr>\n",
       "    <tr>\n",
       "      <th>min</th>\n",
       "      <td>22.000000</td>\n",
       "    </tr>\n",
       "    <tr>\n",
       "      <th>25%</th>\n",
       "      <td>28.500000</td>\n",
       "    </tr>\n",
       "    <tr>\n",
       "      <th>50%</th>\n",
       "      <td>35.000000</td>\n",
       "    </tr>\n",
       "    <tr>\n",
       "      <th>75%</th>\n",
       "      <td>46.500000</td>\n",
       "    </tr>\n",
       "    <tr>\n",
       "      <th>max</th>\n",
       "      <td>58.000000</td>\n",
       "    </tr>\n",
       "  </tbody>\n",
       "</table>\n",
       "</div>"
      ],
      "text/plain": [
       "             Age\n",
       "count   3.000000\n",
       "mean   38.333333\n",
       "std    18.230012\n",
       "min    22.000000\n",
       "25%    28.500000\n",
       "50%    35.000000\n",
       "75%    46.500000\n",
       "max    58.000000"
      ]
     },
     "execution_count": 6,
     "metadata": {},
     "output_type": "execute_result"
    }
   ],
   "source": [
    "df.describe()"
   ]
  },
  {
   "cell_type": "code",
   "execution_count": 3,
   "id": "a5b32b54-475c-46fe-b2a7-c8c7b7572258",
   "metadata": {},
   "outputs": [],
   "source": [
    "import pandas as pd\n"
   ]
  },
  {
   "cell_type": "code",
   "execution_count": 8,
   "id": "af2055ed-5561-46ed-9f49-815f8b90e825",
   "metadata": {},
   "outputs": [],
   "source": [
    "titanic = pd.read_csv(\"D:\\Python\\Demo.csv\")"
   ]
  },
  {
   "cell_type": "code",
   "execution_count": 5,
   "id": "f12f3dc0",
   "metadata": {},
   "outputs": [
    {
     "data": {
      "text/html": [
       "<div>\n",
       "<style scoped>\n",
       "    .dataframe tbody tr th:only-of-type {\n",
       "        vertical-align: middle;\n",
       "    }\n",
       "\n",
       "    .dataframe tbody tr th {\n",
       "        vertical-align: top;\n",
       "    }\n",
       "\n",
       "    .dataframe thead th {\n",
       "        text-align: right;\n",
       "    }\n",
       "</style>\n",
       "<table border=\"1\" class=\"dataframe\">\n",
       "  <thead>\n",
       "    <tr style=\"text-align: right;\">\n",
       "      <th></th>\n",
       "      <th>PassengerId Survived Pclass Name Sex Age SibSp Parch Ticket Fare Cabin Embarked</th>\n",
       "    </tr>\n",
       "  </thead>\n",
       "  <tbody>\n",
       "    <tr>\n",
       "      <th>0</th>\n",
       "      <td>1,0,3,\"Braund, Mr. Owen Harris\",male,22,1,0,A/...</td>\n",
       "    </tr>\n",
       "    <tr>\n",
       "      <th>1</th>\n",
       "      <td>2,1,1,\"Cumings, Mrs. John Bradley (Florence Br...</td>\n",
       "    </tr>\n",
       "    <tr>\n",
       "      <th>2</th>\n",
       "      <td>3,1,3,\"Heikkinen, Miss. Laina\",female,26,0,0,S...</td>\n",
       "    </tr>\n",
       "    <tr>\n",
       "      <th>3</th>\n",
       "      <td>4,1,1,\"Futrelle, Mrs. Jacques Heath (Lily May ...</td>\n",
       "    </tr>\n",
       "    <tr>\n",
       "      <th>4</th>\n",
       "      <td>5,0,3,\"Allen, Mr. William Henry\",male,35,0,0,3...</td>\n",
       "    </tr>\n",
       "    <tr>\n",
       "      <th>...</th>\n",
       "      <td>...</td>\n",
       "    </tr>\n",
       "    <tr>\n",
       "      <th>886</th>\n",
       "      <td>887,0,2,\"Montvila, Rev. Juozas\",male,27,0,0,21...</td>\n",
       "    </tr>\n",
       "    <tr>\n",
       "      <th>887</th>\n",
       "      <td>888,1,1,\"Graham, Miss. Margaret Edith\",female,...</td>\n",
       "    </tr>\n",
       "    <tr>\n",
       "      <th>888</th>\n",
       "      <td>889,0,3,\"Johnston, Miss. Catherine Helen \"\"Car...</td>\n",
       "    </tr>\n",
       "    <tr>\n",
       "      <th>889</th>\n",
       "      <td>890,1,1,\"Behr, Mr. Karl Howell\",male,26,0,0,11...</td>\n",
       "    </tr>\n",
       "    <tr>\n",
       "      <th>890</th>\n",
       "      <td>891,0,3,\"Dooley, Mr. Patrick\",male,32,0,0,3703...</td>\n",
       "    </tr>\n",
       "  </tbody>\n",
       "</table>\n",
       "<p>891 rows × 1 columns</p>\n",
       "</div>"
      ],
      "text/plain": [
       "    PassengerId Survived Pclass Name Sex Age SibSp Parch Ticket Fare Cabin Embarked\n",
       "0    1,0,3,\"Braund, Mr. Owen Harris\",male,22,1,0,A/...                             \n",
       "1    2,1,1,\"Cumings, Mrs. John Bradley (Florence Br...                             \n",
       "2    3,1,3,\"Heikkinen, Miss. Laina\",female,26,0,0,S...                             \n",
       "3    4,1,1,\"Futrelle, Mrs. Jacques Heath (Lily May ...                             \n",
       "4    5,0,3,\"Allen, Mr. William Henry\",male,35,0,0,3...                             \n",
       "..                                                 ...                             \n",
       "886  887,0,2,\"Montvila, Rev. Juozas\",male,27,0,0,21...                             \n",
       "887  888,1,1,\"Graham, Miss. Margaret Edith\",female,...                             \n",
       "888  889,0,3,\"Johnston, Miss. Catherine Helen \"\"Car...                             \n",
       "889  890,1,1,\"Behr, Mr. Karl Howell\",male,26,0,0,11...                             \n",
       "890  891,0,3,\"Dooley, Mr. Patrick\",male,32,0,0,3703...                             \n",
       "\n",
       "[891 rows x 1 columns]"
      ]
     },
     "execution_count": 5,
     "metadata": {},
     "output_type": "execute_result"
    }
   ],
   "source": [
    "titanic"
   ]
  },
  {
   "cell_type": "code",
   "execution_count": 10,
   "id": "3c43c630",
   "metadata": {},
   "outputs": [],
   "source": [
    "In [6]: titanic.to_excel(\"Demo.xlsx\", sheet_name=\"Demo\", index=False)"
   ]
  },
  {
   "cell_type": "code",
   "execution_count": 11,
   "id": "53bda48c",
   "metadata": {},
   "outputs": [
    {
     "data": {
      "text/html": [
       "<div>\n",
       "<style scoped>\n",
       "    .dataframe tbody tr th:only-of-type {\n",
       "        vertical-align: middle;\n",
       "    }\n",
       "\n",
       "    .dataframe tbody tr th {\n",
       "        vertical-align: top;\n",
       "    }\n",
       "\n",
       "    .dataframe thead th {\n",
       "        text-align: right;\n",
       "    }\n",
       "</style>\n",
       "<table border=\"1\" class=\"dataframe\">\n",
       "  <thead>\n",
       "    <tr style=\"text-align: right;\">\n",
       "      <th></th>\n",
       "      <th>PassengerId Survived Pclass Name Sex Age SibSp Parch Ticket Fare Cabin Embarked</th>\n",
       "    </tr>\n",
       "  </thead>\n",
       "  <tbody>\n",
       "    <tr>\n",
       "      <th>0</th>\n",
       "      <td>1,0,3,\"Braund, Mr. Owen Harris\",male,22,1,0,A/...</td>\n",
       "    </tr>\n",
       "    <tr>\n",
       "      <th>1</th>\n",
       "      <td>2,1,1,\"Cumings, Mrs. John Bradley (Florence Br...</td>\n",
       "    </tr>\n",
       "    <tr>\n",
       "      <th>2</th>\n",
       "      <td>3,1,3,\"Heikkinen, Miss. Laina\",female,26,0,0,S...</td>\n",
       "    </tr>\n",
       "    <tr>\n",
       "      <th>3</th>\n",
       "      <td>4,1,1,\"Futrelle, Mrs. Jacques Heath (Lily May ...</td>\n",
       "    </tr>\n",
       "    <tr>\n",
       "      <th>4</th>\n",
       "      <td>5,0,3,\"Allen, Mr. William Henry\",male,35,0,0,3...</td>\n",
       "    </tr>\n",
       "    <tr>\n",
       "      <th>...</th>\n",
       "      <td>...</td>\n",
       "    </tr>\n",
       "    <tr>\n",
       "      <th>886</th>\n",
       "      <td>887,0,2,\"Montvila, Rev. Juozas\",male,27,0,0,21...</td>\n",
       "    </tr>\n",
       "    <tr>\n",
       "      <th>887</th>\n",
       "      <td>888,1,1,\"Graham, Miss. Margaret Edith\",female,...</td>\n",
       "    </tr>\n",
       "    <tr>\n",
       "      <th>888</th>\n",
       "      <td>889,0,3,\"Johnston, Miss. Catherine Helen \"\"Car...</td>\n",
       "    </tr>\n",
       "    <tr>\n",
       "      <th>889</th>\n",
       "      <td>890,1,1,\"Behr, Mr. Karl Howell\",male,26,0,0,11...</td>\n",
       "    </tr>\n",
       "    <tr>\n",
       "      <th>890</th>\n",
       "      <td>891,0,3,\"Dooley, Mr. Patrick\",male,32,0,0,3703...</td>\n",
       "    </tr>\n",
       "  </tbody>\n",
       "</table>\n",
       "<p>891 rows × 1 columns</p>\n",
       "</div>"
      ],
      "text/plain": [
       "    PassengerId Survived Pclass Name Sex Age SibSp Parch Ticket Fare Cabin Embarked\n",
       "0    1,0,3,\"Braund, Mr. Owen Harris\",male,22,1,0,A/...                             \n",
       "1    2,1,1,\"Cumings, Mrs. John Bradley (Florence Br...                             \n",
       "2    3,1,3,\"Heikkinen, Miss. Laina\",female,26,0,0,S...                             \n",
       "3    4,1,1,\"Futrelle, Mrs. Jacques Heath (Lily May ...                             \n",
       "4    5,0,3,\"Allen, Mr. William Henry\",male,35,0,0,3...                             \n",
       "..                                                 ...                             \n",
       "886  887,0,2,\"Montvila, Rev. Juozas\",male,27,0,0,21...                             \n",
       "887  888,1,1,\"Graham, Miss. Margaret Edith\",female,...                             \n",
       "888  889,0,3,\"Johnston, Miss. Catherine Helen \"\"Car...                             \n",
       "889  890,1,1,\"Behr, Mr. Karl Howell\",male,26,0,0,11...                             \n",
       "890  891,0,3,\"Dooley, Mr. Patrick\",male,32,0,0,3703...                             \n",
       "\n",
       "[891 rows x 1 columns]"
      ]
     },
     "execution_count": 11,
     "metadata": {},
     "output_type": "execute_result"
    }
   ],
   "source": [
    "titanic"
   ]
  },
  {
   "cell_type": "code",
   "execution_count": 12,
   "id": "1e6b5487",
   "metadata": {},
   "outputs": [
    {
     "name": "stdout",
     "output_type": "stream",
     "text": [
      "<class 'pandas.core.frame.DataFrame'>\n",
      "RangeIndex: 891 entries, 0 to 890\n",
      "Data columns (total 1 columns):\n",
      " #   Column                                                                           Non-Null Count  Dtype \n",
      "---  ------                                                                           --------------  ----- \n",
      " 0   PassengerId Survived Pclass Name Sex Age SibSp Parch Ticket Fare Cabin Embarked  891 non-null    object\n",
      "dtypes: object(1)\n",
      "memory usage: 7.1+ KB\n"
     ]
    }
   ],
   "source": [
    "titanic.info()"
   ]
  },
  {
   "cell_type": "code",
   "execution_count": 13,
   "id": "b9cddbfe",
   "metadata": {},
   "outputs": [],
   "source": [
    "titanic = pd.read_csv(\"D:\\Python\\Football.csv\")"
   ]
  },
  {
   "cell_type": "code",
   "execution_count": 14,
   "id": "bc2103ed",
   "metadata": {},
   "outputs": [
    {
     "data": {
      "text/html": [
       "<div>\n",
       "<style scoped>\n",
       "    .dataframe tbody tr th:only-of-type {\n",
       "        vertical-align: middle;\n",
       "    }\n",
       "\n",
       "    .dataframe tbody tr th {\n",
       "        vertical-align: top;\n",
       "    }\n",
       "\n",
       "    .dataframe thead th {\n",
       "        text-align: right;\n",
       "    }\n",
       "</style>\n",
       "<table border=\"1\" class=\"dataframe\">\n",
       "  <thead>\n",
       "    <tr style=\"text-align: right;\">\n",
       "      <th></th>\n",
       "      <th>Football Club</th>\n",
       "      <th>Manager</th>\n",
       "      <th>Captain</th>\n",
       "      <th>Nationality</th>\n",
       "      <th>GoalKeeper</th>\n",
       "    </tr>\n",
       "  </thead>\n",
       "  <tbody>\n",
       "    <tr>\n",
       "      <th>0</th>\n",
       "      <td>Real Madrid</td>\n",
       "      <td>Carlo A</td>\n",
       "      <td>Kross</td>\n",
       "      <td>Germany</td>\n",
       "      <td>Lunin</td>\n",
       "    </tr>\n",
       "    <tr>\n",
       "      <th>1</th>\n",
       "      <td>Barca</td>\n",
       "      <td>Hansi Flick</td>\n",
       "      <td>De Jong</td>\n",
       "      <td>Netherland</td>\n",
       "      <td>Ter</td>\n",
       "    </tr>\n",
       "    <tr>\n",
       "      <th>2</th>\n",
       "      <td>Arsenal</td>\n",
       "      <td>Mikel Aretea</td>\n",
       "      <td>Odegard</td>\n",
       "      <td>Norway</td>\n",
       "      <td>Raya</td>\n",
       "    </tr>\n",
       "    <tr>\n",
       "      <th>3</th>\n",
       "      <td>Man City</td>\n",
       "      <td>Pep G</td>\n",
       "      <td>KDB</td>\n",
       "      <td>Belgium</td>\n",
       "      <td>Ederson</td>\n",
       "    </tr>\n",
       "    <tr>\n",
       "      <th>4</th>\n",
       "      <td>Man United</td>\n",
       "      <td>ETH</td>\n",
       "      <td>Dalot</td>\n",
       "      <td>Portgual</td>\n",
       "      <td>Onana</td>\n",
       "    </tr>\n",
       "    <tr>\n",
       "      <th>5</th>\n",
       "      <td>Liverpool</td>\n",
       "      <td>Kloop</td>\n",
       "      <td>VVD</td>\n",
       "      <td>Netherland</td>\n",
       "      <td>Allison</td>\n",
       "    </tr>\n",
       "  </tbody>\n",
       "</table>\n",
       "</div>"
      ],
      "text/plain": [
       "  Football Club       Manager  Captain Nationality GoalKeeper\n",
       "0   Real Madrid       Carlo A    Kross     Germany      Lunin\n",
       "1         Barca   Hansi Flick  De Jong  Netherland        Ter\n",
       "2       Arsenal  Mikel Aretea  Odegard      Norway       Raya\n",
       "3      Man City         Pep G      KDB     Belgium    Ederson\n",
       "4    Man United           ETH    Dalot    Portgual      Onana\n",
       "5     Liverpool         Kloop      VVD  Netherland    Allison"
      ]
     },
     "execution_count": 14,
     "metadata": {},
     "output_type": "execute_result"
    }
   ],
   "source": [
    "titanic"
   ]
  },
  {
   "cell_type": "code",
   "execution_count": 1,
   "id": "5e30d73a",
   "metadata": {},
   "outputs": [
    {
     "ename": "NameError",
     "evalue": "name 'pd' is not defined",
     "output_type": "error",
     "traceback": [
      "\u001b[1;31m---------------------------------------------------------------------------\u001b[0m",
      "\u001b[1;31mNameError\u001b[0m                                 Traceback (most recent call last)",
      "Cell \u001b[1;32mIn[1], line 1\u001b[0m\n\u001b[1;32m----> 1\u001b[0m Football \u001b[38;5;241m=\u001b[39m pd\u001b[38;5;241m.\u001b[39mread_csv(\u001b[38;5;124m\"\u001b[39m\u001b[38;5;124mD:\u001b[39m\u001b[38;5;124m\\\u001b[39m\u001b[38;5;124mPython\u001b[39m\u001b[38;5;124m\\\u001b[39m\u001b[38;5;124mFootball.csv\u001b[39m\u001b[38;5;124m\"\u001b[39m)\n",
      "\u001b[1;31mNameError\u001b[0m: name 'pd' is not defined"
     ]
    }
   ],
   "source": [
    "Football = pd.read_csv(\"D:\\Python\\Football.csv\")"
   ]
  },
  {
   "cell_type": "code",
   "execution_count": 2,
   "id": "5c0e0bb7",
   "metadata": {},
   "outputs": [
    {
     "ename": "NameError",
     "evalue": "name 'Football' is not defined",
     "output_type": "error",
     "traceback": [
      "\u001b[1;31m---------------------------------------------------------------------------\u001b[0m",
      "\u001b[1;31mNameError\u001b[0m                                 Traceback (most recent call last)",
      "Cell \u001b[1;32mIn[2], line 1\u001b[0m\n\u001b[1;32m----> 1\u001b[0m Football\n",
      "\u001b[1;31mNameError\u001b[0m: name 'Football' is not defined"
     ]
    }
   ],
   "source": [
    "Football"
   ]
  },
  {
   "cell_type": "code",
   "execution_count": 3,
   "id": "6a02a409",
   "metadata": {},
   "outputs": [],
   "source": [
    "import pandas as pd"
   ]
  },
  {
   "cell_type": "code",
   "execution_count": 4,
   "id": "60c5e160",
   "metadata": {},
   "outputs": [],
   "source": [
    "Football = pd.read_csv(\"D:\\Python\\Football.csv\")"
   ]
  },
  {
   "cell_type": "code",
   "execution_count": 5,
   "id": "ff6d3c5e",
   "metadata": {},
   "outputs": [
    {
     "data": {
      "text/html": [
       "<div>\n",
       "<style scoped>\n",
       "    .dataframe tbody tr th:only-of-type {\n",
       "        vertical-align: middle;\n",
       "    }\n",
       "\n",
       "    .dataframe tbody tr th {\n",
       "        vertical-align: top;\n",
       "    }\n",
       "\n",
       "    .dataframe thead th {\n",
       "        text-align: right;\n",
       "    }\n",
       "</style>\n",
       "<table border=\"1\" class=\"dataframe\">\n",
       "  <thead>\n",
       "    <tr style=\"text-align: right;\">\n",
       "      <th></th>\n",
       "      <th>Football Club</th>\n",
       "      <th>Manager</th>\n",
       "      <th>Captain</th>\n",
       "      <th>Nationality</th>\n",
       "      <th>GoalKeeper</th>\n",
       "    </tr>\n",
       "  </thead>\n",
       "  <tbody>\n",
       "    <tr>\n",
       "      <th>0</th>\n",
       "      <td>Real Madrid</td>\n",
       "      <td>Carlo A</td>\n",
       "      <td>Kross</td>\n",
       "      <td>Germany</td>\n",
       "      <td>Lunin</td>\n",
       "    </tr>\n",
       "    <tr>\n",
       "      <th>1</th>\n",
       "      <td>Barca</td>\n",
       "      <td>Hansi Flick</td>\n",
       "      <td>De Jong</td>\n",
       "      <td>Netherland</td>\n",
       "      <td>Ter</td>\n",
       "    </tr>\n",
       "    <tr>\n",
       "      <th>2</th>\n",
       "      <td>Arsenal</td>\n",
       "      <td>Mikel Aretea</td>\n",
       "      <td>Odegard</td>\n",
       "      <td>Norway</td>\n",
       "      <td>Raya</td>\n",
       "    </tr>\n",
       "    <tr>\n",
       "      <th>3</th>\n",
       "      <td>Man City</td>\n",
       "      <td>Pep G</td>\n",
       "      <td>KDB</td>\n",
       "      <td>Belgium</td>\n",
       "      <td>Ederson</td>\n",
       "    </tr>\n",
       "    <tr>\n",
       "      <th>4</th>\n",
       "      <td>Man United</td>\n",
       "      <td>ETH</td>\n",
       "      <td>Dalot</td>\n",
       "      <td>Portgual</td>\n",
       "      <td>Onana</td>\n",
       "    </tr>\n",
       "    <tr>\n",
       "      <th>5</th>\n",
       "      <td>Liverpool</td>\n",
       "      <td>Kloop</td>\n",
       "      <td>VVD</td>\n",
       "      <td>Netherland</td>\n",
       "      <td>Allison</td>\n",
       "    </tr>\n",
       "  </tbody>\n",
       "</table>\n",
       "</div>"
      ],
      "text/plain": [
       "  Football Club       Manager  Captain Nationality GoalKeeper\n",
       "0   Real Madrid       Carlo A    Kross     Germany      Lunin\n",
       "1         Barca   Hansi Flick  De Jong  Netherland        Ter\n",
       "2       Arsenal  Mikel Aretea  Odegard      Norway       Raya\n",
       "3      Man City         Pep G      KDB     Belgium    Ederson\n",
       "4    Man United           ETH    Dalot    Portgual      Onana\n",
       "5     Liverpool         Kloop      VVD  Netherland    Allison"
      ]
     },
     "execution_count": 5,
     "metadata": {},
     "output_type": "execute_result"
    }
   ],
   "source": [
    "Football"
   ]
  },
  {
   "cell_type": "code",
   "execution_count": 6,
   "id": "82154c44",
   "metadata": {},
   "outputs": [
    {
     "name": "stdout",
     "output_type": "stream",
     "text": [
      "<class 'pandas.core.frame.DataFrame'>\n",
      "RangeIndex: 6 entries, 0 to 5\n",
      "Data columns (total 5 columns):\n",
      " #   Column         Non-Null Count  Dtype \n",
      "---  ------         --------------  ----- \n",
      " 0   Football Club  6 non-null      object\n",
      " 1   Manager        6 non-null      object\n",
      " 2   Captain        6 non-null      object\n",
      " 3   Nationality    6 non-null      object\n",
      " 4   GoalKeeper     6 non-null      object\n",
      "dtypes: object(5)\n",
      "memory usage: 372.0+ bytes\n"
     ]
    }
   ],
   "source": [
    "Football.info()"
   ]
  },
  {
   "cell_type": "code",
   "execution_count": 7,
   "id": "6deb9e11",
   "metadata": {},
   "outputs": [
    {
     "data": {
      "text/html": [
       "<div>\n",
       "<style scoped>\n",
       "    .dataframe tbody tr th:only-of-type {\n",
       "        vertical-align: middle;\n",
       "    }\n",
       "\n",
       "    .dataframe tbody tr th {\n",
       "        vertical-align: top;\n",
       "    }\n",
       "\n",
       "    .dataframe thead th {\n",
       "        text-align: right;\n",
       "    }\n",
       "</style>\n",
       "<table border=\"1\" class=\"dataframe\">\n",
       "  <thead>\n",
       "    <tr style=\"text-align: right;\">\n",
       "      <th></th>\n",
       "      <th>Football Club</th>\n",
       "      <th>Manager</th>\n",
       "      <th>Captain</th>\n",
       "      <th>Nationality</th>\n",
       "      <th>GoalKeeper</th>\n",
       "    </tr>\n",
       "  </thead>\n",
       "  <tbody>\n",
       "    <tr>\n",
       "      <th>0</th>\n",
       "      <td>Real Madrid</td>\n",
       "      <td>Carlo A</td>\n",
       "      <td>Kross</td>\n",
       "      <td>Germany</td>\n",
       "      <td>Lunin</td>\n",
       "    </tr>\n",
       "    <tr>\n",
       "      <th>1</th>\n",
       "      <td>Barca</td>\n",
       "      <td>Hansi Flick</td>\n",
       "      <td>De Jong</td>\n",
       "      <td>Netherland</td>\n",
       "      <td>Ter</td>\n",
       "    </tr>\n",
       "    <tr>\n",
       "      <th>2</th>\n",
       "      <td>Arsenal</td>\n",
       "      <td>Mikel Aretea</td>\n",
       "      <td>Odegard</td>\n",
       "      <td>Norway</td>\n",
       "      <td>Raya</td>\n",
       "    </tr>\n",
       "    <tr>\n",
       "      <th>3</th>\n",
       "      <td>Man City</td>\n",
       "      <td>Pep G</td>\n",
       "      <td>KDB</td>\n",
       "      <td>Belgium</td>\n",
       "      <td>Ederson</td>\n",
       "    </tr>\n",
       "    <tr>\n",
       "      <th>4</th>\n",
       "      <td>Man United</td>\n",
       "      <td>ETH</td>\n",
       "      <td>Dalot</td>\n",
       "      <td>Portgual</td>\n",
       "      <td>Onana</td>\n",
       "    </tr>\n",
       "  </tbody>\n",
       "</table>\n",
       "</div>"
      ],
      "text/plain": [
       "  Football Club       Manager  Captain Nationality GoalKeeper\n",
       "0   Real Madrid       Carlo A    Kross     Germany      Lunin\n",
       "1         Barca   Hansi Flick  De Jong  Netherland        Ter\n",
       "2       Arsenal  Mikel Aretea  Odegard      Norway       Raya\n",
       "3      Man City         Pep G      KDB     Belgium    Ederson\n",
       "4    Man United           ETH    Dalot    Portgual      Onana"
      ]
     },
     "execution_count": 7,
     "metadata": {},
     "output_type": "execute_result"
    }
   ],
   "source": [
    "Football.head()"
   ]
  },
  {
   "cell_type": "code",
   "execution_count": 8,
   "id": "59cbeec5",
   "metadata": {},
   "outputs": [
    {
     "data": {
      "text/html": [
       "<div>\n",
       "<style scoped>\n",
       "    .dataframe tbody tr th:only-of-type {\n",
       "        vertical-align: middle;\n",
       "    }\n",
       "\n",
       "    .dataframe tbody tr th {\n",
       "        vertical-align: top;\n",
       "    }\n",
       "\n",
       "    .dataframe thead th {\n",
       "        text-align: right;\n",
       "    }\n",
       "</style>\n",
       "<table border=\"1\" class=\"dataframe\">\n",
       "  <thead>\n",
       "    <tr style=\"text-align: right;\">\n",
       "      <th></th>\n",
       "      <th>Football Club</th>\n",
       "      <th>Manager</th>\n",
       "      <th>Captain</th>\n",
       "      <th>Nationality</th>\n",
       "      <th>GoalKeeper</th>\n",
       "    </tr>\n",
       "  </thead>\n",
       "  <tbody>\n",
       "    <tr>\n",
       "      <th>1</th>\n",
       "      <td>Barca</td>\n",
       "      <td>Hansi Flick</td>\n",
       "      <td>De Jong</td>\n",
       "      <td>Netherland</td>\n",
       "      <td>Ter</td>\n",
       "    </tr>\n",
       "    <tr>\n",
       "      <th>2</th>\n",
       "      <td>Arsenal</td>\n",
       "      <td>Mikel Aretea</td>\n",
       "      <td>Odegard</td>\n",
       "      <td>Norway</td>\n",
       "      <td>Raya</td>\n",
       "    </tr>\n",
       "    <tr>\n",
       "      <th>3</th>\n",
       "      <td>Man City</td>\n",
       "      <td>Pep G</td>\n",
       "      <td>KDB</td>\n",
       "      <td>Belgium</td>\n",
       "      <td>Ederson</td>\n",
       "    </tr>\n",
       "    <tr>\n",
       "      <th>4</th>\n",
       "      <td>Man United</td>\n",
       "      <td>ETH</td>\n",
       "      <td>Dalot</td>\n",
       "      <td>Portgual</td>\n",
       "      <td>Onana</td>\n",
       "    </tr>\n",
       "    <tr>\n",
       "      <th>5</th>\n",
       "      <td>Liverpool</td>\n",
       "      <td>Kloop</td>\n",
       "      <td>VVD</td>\n",
       "      <td>Netherland</td>\n",
       "      <td>Allison</td>\n",
       "    </tr>\n",
       "  </tbody>\n",
       "</table>\n",
       "</div>"
      ],
      "text/plain": [
       "  Football Club       Manager  Captain Nationality GoalKeeper\n",
       "1         Barca   Hansi Flick  De Jong  Netherland        Ter\n",
       "2       Arsenal  Mikel Aretea  Odegard      Norway       Raya\n",
       "3      Man City         Pep G      KDB     Belgium    Ederson\n",
       "4    Man United           ETH    Dalot    Portgual      Onana\n",
       "5     Liverpool         Kloop      VVD  Netherland    Allison"
      ]
     },
     "execution_count": 8,
     "metadata": {},
     "output_type": "execute_result"
    }
   ],
   "source": [
    "Football.tail()"
   ]
  },
  {
   "cell_type": "code",
   "execution_count": 9,
   "id": "0d5d01b3",
   "metadata": {},
   "outputs": [
    {
     "ename": "AttributeError",
     "evalue": "'DataFrame' object has no attribute 'dtype'",
     "output_type": "error",
     "traceback": [
      "\u001b[1;31m---------------------------------------------------------------------------\u001b[0m",
      "\u001b[1;31mAttributeError\u001b[0m                            Traceback (most recent call last)",
      "\u001b[1;32m~\\AppData\\Local\\Temp\\ipykernel_1808\\1101160085.py\u001b[0m in \u001b[0;36m?\u001b[1;34m()\u001b[0m\n\u001b[1;32m----> 1\u001b[1;33m \u001b[0mFootball\u001b[0m\u001b[1;33m.\u001b[0m\u001b[0mdtype\u001b[0m\u001b[1;33m(\u001b[0m\u001b[1;33m)\u001b[0m\u001b[1;33m\u001b[0m\u001b[1;33m\u001b[0m\u001b[0m\n\u001b[0m",
      "\u001b[1;32m~\\anaconda3\\Lib\\site-packages\\pandas\\core\\generic.py\u001b[0m in \u001b[0;36m?\u001b[1;34m(self, name)\u001b[0m\n\u001b[0;32m   6200\u001b[0m             \u001b[1;32mand\u001b[0m \u001b[0mname\u001b[0m \u001b[1;32mnot\u001b[0m \u001b[1;32min\u001b[0m \u001b[0mself\u001b[0m\u001b[1;33m.\u001b[0m\u001b[0m_accessors\u001b[0m\u001b[1;33m\u001b[0m\u001b[1;33m\u001b[0m\u001b[0m\n\u001b[0;32m   6201\u001b[0m             \u001b[1;32mand\u001b[0m \u001b[0mself\u001b[0m\u001b[1;33m.\u001b[0m\u001b[0m_info_axis\u001b[0m\u001b[1;33m.\u001b[0m\u001b[0m_can_hold_identifiers_and_holds_name\u001b[0m\u001b[1;33m(\u001b[0m\u001b[0mname\u001b[0m\u001b[1;33m)\u001b[0m\u001b[1;33m\u001b[0m\u001b[1;33m\u001b[0m\u001b[0m\n\u001b[0;32m   6202\u001b[0m         ):\n\u001b[0;32m   6203\u001b[0m             \u001b[1;32mreturn\u001b[0m \u001b[0mself\u001b[0m\u001b[1;33m[\u001b[0m\u001b[0mname\u001b[0m\u001b[1;33m]\u001b[0m\u001b[1;33m\u001b[0m\u001b[1;33m\u001b[0m\u001b[0m\n\u001b[1;32m-> 6204\u001b[1;33m         \u001b[1;32mreturn\u001b[0m \u001b[0mobject\u001b[0m\u001b[1;33m.\u001b[0m\u001b[0m__getattribute__\u001b[0m\u001b[1;33m(\u001b[0m\u001b[0mself\u001b[0m\u001b[1;33m,\u001b[0m \u001b[0mname\u001b[0m\u001b[1;33m)\u001b[0m\u001b[1;33m\u001b[0m\u001b[1;33m\u001b[0m\u001b[0m\n\u001b[0m",
      "\u001b[1;31mAttributeError\u001b[0m: 'DataFrame' object has no attribute 'dtype'"
     ]
    }
   ],
   "source": [
    "Football.dtype()"
   ]
  },
  {
   "cell_type": "code",
   "execution_count": 10,
   "id": "b201ef35",
   "metadata": {},
   "outputs": [
    {
     "ename": "AttributeError",
     "evalue": "'DataFrame' object has no attribute 'dtype'",
     "output_type": "error",
     "traceback": [
      "\u001b[1;31m---------------------------------------------------------------------------\u001b[0m",
      "\u001b[1;31mAttributeError\u001b[0m                            Traceback (most recent call last)",
      "\u001b[1;32m~\\AppData\\Local\\Temp\\ipykernel_1808\\101085163.py\u001b[0m in \u001b[0;36m?\u001b[1;34m()\u001b[0m\n\u001b[1;32m----> 1\u001b[1;33m \u001b[0mFootball\u001b[0m\u001b[1;33m.\u001b[0m\u001b[0mdtype\u001b[0m\u001b[1;33m\u001b[0m\u001b[1;33m\u001b[0m\u001b[0m\n\u001b[0m",
      "\u001b[1;32m~\\anaconda3\\Lib\\site-packages\\pandas\\core\\generic.py\u001b[0m in \u001b[0;36m?\u001b[1;34m(self, name)\u001b[0m\n\u001b[0;32m   6200\u001b[0m             \u001b[1;32mand\u001b[0m \u001b[0mname\u001b[0m \u001b[1;32mnot\u001b[0m \u001b[1;32min\u001b[0m \u001b[0mself\u001b[0m\u001b[1;33m.\u001b[0m\u001b[0m_accessors\u001b[0m\u001b[1;33m\u001b[0m\u001b[1;33m\u001b[0m\u001b[0m\n\u001b[0;32m   6201\u001b[0m             \u001b[1;32mand\u001b[0m \u001b[0mself\u001b[0m\u001b[1;33m.\u001b[0m\u001b[0m_info_axis\u001b[0m\u001b[1;33m.\u001b[0m\u001b[0m_can_hold_identifiers_and_holds_name\u001b[0m\u001b[1;33m(\u001b[0m\u001b[0mname\u001b[0m\u001b[1;33m)\u001b[0m\u001b[1;33m\u001b[0m\u001b[1;33m\u001b[0m\u001b[0m\n\u001b[0;32m   6202\u001b[0m         ):\n\u001b[0;32m   6203\u001b[0m             \u001b[1;32mreturn\u001b[0m \u001b[0mself\u001b[0m\u001b[1;33m[\u001b[0m\u001b[0mname\u001b[0m\u001b[1;33m]\u001b[0m\u001b[1;33m\u001b[0m\u001b[1;33m\u001b[0m\u001b[0m\n\u001b[1;32m-> 6204\u001b[1;33m         \u001b[1;32mreturn\u001b[0m \u001b[0mobject\u001b[0m\u001b[1;33m.\u001b[0m\u001b[0m__getattribute__\u001b[0m\u001b[1;33m(\u001b[0m\u001b[0mself\u001b[0m\u001b[1;33m,\u001b[0m \u001b[0mname\u001b[0m\u001b[1;33m)\u001b[0m\u001b[1;33m\u001b[0m\u001b[1;33m\u001b[0m\u001b[0m\n\u001b[0m",
      "\u001b[1;31mAttributeError\u001b[0m: 'DataFrame' object has no attribute 'dtype'"
     ]
    }
   ],
   "source": [
    "Football.dtype"
   ]
  },
  {
   "cell_type": "code",
   "execution_count": 11,
   "id": "d3ac7375",
   "metadata": {},
   "outputs": [
    {
     "data": {
      "text/plain": [
       "Football Club    object\n",
       "Manager          object\n",
       "Captain          object\n",
       "Nationality      object\n",
       "GoalKeeper       object\n",
       "dtype: object"
      ]
     },
     "execution_count": 11,
     "metadata": {},
     "output_type": "execute_result"
    }
   ],
   "source": [
    "Football.dtypes"
   ]
  },
  {
   "cell_type": "code",
   "execution_count": 12,
   "id": "db26190e",
   "metadata": {},
   "outputs": [
    {
     "ename": "SyntaxError",
     "evalue": "invalid syntax. Perhaps you forgot a comma? (2050034577.py, line 1)",
     "output_type": "error",
     "traceback": [
      "\u001b[1;36m  Cell \u001b[1;32mIn[12], line 1\u001b[1;36m\u001b[0m\n\u001b[1;33m    Football = Football.to_excel(\"Football.xlsx\", sheet_name = \"Football\" index = False)\u001b[0m\n\u001b[1;37m                                                               ^\u001b[0m\n\u001b[1;31mSyntaxError\u001b[0m\u001b[1;31m:\u001b[0m invalid syntax. Perhaps you forgot a comma?\n"
     ]
    }
   ],
   "source": [
    "Football = Football.to_excel(\"Football.xlsx\", sheet_name = \"Football\" index = False)"
   ]
  },
  {
   "cell_type": "code",
   "execution_count": 13,
   "id": "74fac89c",
   "metadata": {},
   "outputs": [
    {
     "ename": "SyntaxError",
     "evalue": "invalid syntax. Perhaps you forgot a comma? (1363932418.py, line 1)",
     "output_type": "error",
     "traceback": [
      "\u001b[1;36m  Cell \u001b[1;32mIn[13], line 1\u001b[1;36m\u001b[0m\n\u001b[1;33m    Football.to_excel(\"Football.xlsx\", sheet_name = \"Football\" index = False)\u001b[0m\n\u001b[1;37m                                                    ^\u001b[0m\n\u001b[1;31mSyntaxError\u001b[0m\u001b[1;31m:\u001b[0m invalid syntax. Perhaps you forgot a comma?\n"
     ]
    }
   ],
   "source": [
    " Football.to_excel(\"Football.xlsx\", sheet_name = \"Football\" index = False)"
   ]
  },
  {
   "cell_type": "code",
   "execution_count": 14,
   "id": "d95b6f94",
   "metadata": {},
   "outputs": [],
   "source": [
    "Football.to_excel(\"Football.xlsx\", sheet_name = \"Football\", index = False)"
   ]
  },
  {
   "cell_type": "code",
   "execution_count": 15,
   "id": "adeb9c89",
   "metadata": {},
   "outputs": [
    {
     "data": {
      "text/html": [
       "<div>\n",
       "<style scoped>\n",
       "    .dataframe tbody tr th:only-of-type {\n",
       "        vertical-align: middle;\n",
       "    }\n",
       "\n",
       "    .dataframe tbody tr th {\n",
       "        vertical-align: top;\n",
       "    }\n",
       "\n",
       "    .dataframe thead th {\n",
       "        text-align: right;\n",
       "    }\n",
       "</style>\n",
       "<table border=\"1\" class=\"dataframe\">\n",
       "  <thead>\n",
       "    <tr style=\"text-align: right;\">\n",
       "      <th></th>\n",
       "      <th>Football Club</th>\n",
       "      <th>Manager</th>\n",
       "      <th>Captain</th>\n",
       "      <th>Nationality</th>\n",
       "      <th>GoalKeeper</th>\n",
       "    </tr>\n",
       "  </thead>\n",
       "  <tbody>\n",
       "    <tr>\n",
       "      <th>0</th>\n",
       "      <td>Real Madrid</td>\n",
       "      <td>Carlo A</td>\n",
       "      <td>Kross</td>\n",
       "      <td>Germany</td>\n",
       "      <td>Lunin</td>\n",
       "    </tr>\n",
       "    <tr>\n",
       "      <th>1</th>\n",
       "      <td>Barca</td>\n",
       "      <td>Hansi Flick</td>\n",
       "      <td>De Jong</td>\n",
       "      <td>Netherland</td>\n",
       "      <td>Ter</td>\n",
       "    </tr>\n",
       "    <tr>\n",
       "      <th>2</th>\n",
       "      <td>Arsenal</td>\n",
       "      <td>Mikel Aretea</td>\n",
       "      <td>Odegard</td>\n",
       "      <td>Norway</td>\n",
       "      <td>Raya</td>\n",
       "    </tr>\n",
       "    <tr>\n",
       "      <th>3</th>\n",
       "      <td>Man City</td>\n",
       "      <td>Pep G</td>\n",
       "      <td>KDB</td>\n",
       "      <td>Belgium</td>\n",
       "      <td>Ederson</td>\n",
       "    </tr>\n",
       "    <tr>\n",
       "      <th>4</th>\n",
       "      <td>Man United</td>\n",
       "      <td>ETH</td>\n",
       "      <td>Dalot</td>\n",
       "      <td>Portgual</td>\n",
       "      <td>Onana</td>\n",
       "    </tr>\n",
       "    <tr>\n",
       "      <th>5</th>\n",
       "      <td>Liverpool</td>\n",
       "      <td>Kloop</td>\n",
       "      <td>VVD</td>\n",
       "      <td>Netherland</td>\n",
       "      <td>Allison</td>\n",
       "    </tr>\n",
       "  </tbody>\n",
       "</table>\n",
       "</div>"
      ],
      "text/plain": [
       "  Football Club       Manager  Captain Nationality GoalKeeper\n",
       "0   Real Madrid       Carlo A    Kross     Germany      Lunin\n",
       "1         Barca   Hansi Flick  De Jong  Netherland        Ter\n",
       "2       Arsenal  Mikel Aretea  Odegard      Norway       Raya\n",
       "3      Man City         Pep G      KDB     Belgium    Ederson\n",
       "4    Man United           ETH    Dalot    Portgual      Onana\n",
       "5     Liverpool         Kloop      VVD  Netherland    Allison"
      ]
     },
     "execution_count": 15,
     "metadata": {},
     "output_type": "execute_result"
    }
   ],
   "source": [
    "Football\n"
   ]
  },
  {
   "cell_type": "code",
   "execution_count": 16,
   "id": "bca98cc1",
   "metadata": {},
   "outputs": [
    {
     "ename": "AttributeError",
     "evalue": "'DataFrame' object has no attribute 'read_excel'",
     "output_type": "error",
     "traceback": [
      "\u001b[1;31m---------------------------------------------------------------------------\u001b[0m",
      "\u001b[1;31mAttributeError\u001b[0m                            Traceback (most recent call last)",
      "\u001b[1;32m~\\AppData\\Local\\Temp\\ipykernel_1808\\937583646.py\u001b[0m in \u001b[0;36m?\u001b[1;34m()\u001b[0m\n\u001b[1;32m----> 1\u001b[1;33m \u001b[0mFootball\u001b[0m\u001b[1;33m.\u001b[0m\u001b[0mread_excel\u001b[0m\u001b[1;33m(\u001b[0m\u001b[1;34m\"Football.xlsx\"\u001b[0m\u001b[1;33m,\u001b[0m \u001b[0msheet_name\u001b[0m \u001b[1;33m=\u001b[0m \u001b[1;34m\"Football\"\u001b[0m\u001b[1;33m)\u001b[0m\u001b[1;33m\u001b[0m\u001b[1;33m\u001b[0m\u001b[0m\n\u001b[0m",
      "\u001b[1;32m~\\anaconda3\\Lib\\site-packages\\pandas\\core\\generic.py\u001b[0m in \u001b[0;36m?\u001b[1;34m(self, name)\u001b[0m\n\u001b[0;32m   6200\u001b[0m             \u001b[1;32mand\u001b[0m \u001b[0mname\u001b[0m \u001b[1;32mnot\u001b[0m \u001b[1;32min\u001b[0m \u001b[0mself\u001b[0m\u001b[1;33m.\u001b[0m\u001b[0m_accessors\u001b[0m\u001b[1;33m\u001b[0m\u001b[1;33m\u001b[0m\u001b[0m\n\u001b[0;32m   6201\u001b[0m             \u001b[1;32mand\u001b[0m \u001b[0mself\u001b[0m\u001b[1;33m.\u001b[0m\u001b[0m_info_axis\u001b[0m\u001b[1;33m.\u001b[0m\u001b[0m_can_hold_identifiers_and_holds_name\u001b[0m\u001b[1;33m(\u001b[0m\u001b[0mname\u001b[0m\u001b[1;33m)\u001b[0m\u001b[1;33m\u001b[0m\u001b[1;33m\u001b[0m\u001b[0m\n\u001b[0;32m   6202\u001b[0m         ):\n\u001b[0;32m   6203\u001b[0m             \u001b[1;32mreturn\u001b[0m \u001b[0mself\u001b[0m\u001b[1;33m[\u001b[0m\u001b[0mname\u001b[0m\u001b[1;33m]\u001b[0m\u001b[1;33m\u001b[0m\u001b[1;33m\u001b[0m\u001b[0m\n\u001b[1;32m-> 6204\u001b[1;33m         \u001b[1;32mreturn\u001b[0m \u001b[0mobject\u001b[0m\u001b[1;33m.\u001b[0m\u001b[0m__getattribute__\u001b[0m\u001b[1;33m(\u001b[0m\u001b[0mself\u001b[0m\u001b[1;33m,\u001b[0m \u001b[0mname\u001b[0m\u001b[1;33m)\u001b[0m\u001b[1;33m\u001b[0m\u001b[1;33m\u001b[0m\u001b[0m\n\u001b[0m",
      "\u001b[1;31mAttributeError\u001b[0m: 'DataFrame' object has no attribute 'read_excel'"
     ]
    }
   ],
   "source": [
    "Football.read_excel(\"Football.xlsx\", sheet_name = \"Football\")"
   ]
  },
  {
   "cell_type": "code",
   "execution_count": 17,
   "id": "1c4d27f7",
   "metadata": {},
   "outputs": [],
   "source": [
    "Football = pd.read_excel(\"Football.xlsx\", sheet_name = \"Football\")"
   ]
  },
  {
   "cell_type": "code",
   "execution_count": 18,
   "id": "bd454537",
   "metadata": {},
   "outputs": [
    {
     "data": {
      "text/html": [
       "<div>\n",
       "<style scoped>\n",
       "    .dataframe tbody tr th:only-of-type {\n",
       "        vertical-align: middle;\n",
       "    }\n",
       "\n",
       "    .dataframe tbody tr th {\n",
       "        vertical-align: top;\n",
       "    }\n",
       "\n",
       "    .dataframe thead th {\n",
       "        text-align: right;\n",
       "    }\n",
       "</style>\n",
       "<table border=\"1\" class=\"dataframe\">\n",
       "  <thead>\n",
       "    <tr style=\"text-align: right;\">\n",
       "      <th></th>\n",
       "      <th>Football Club</th>\n",
       "      <th>Manager</th>\n",
       "      <th>Captain</th>\n",
       "      <th>Nationality</th>\n",
       "      <th>GoalKeeper</th>\n",
       "    </tr>\n",
       "  </thead>\n",
       "  <tbody>\n",
       "    <tr>\n",
       "      <th>0</th>\n",
       "      <td>Real Madrid</td>\n",
       "      <td>Carlo A</td>\n",
       "      <td>Kross</td>\n",
       "      <td>Germany</td>\n",
       "      <td>Lunin</td>\n",
       "    </tr>\n",
       "    <tr>\n",
       "      <th>1</th>\n",
       "      <td>Barca</td>\n",
       "      <td>Hansi Flick</td>\n",
       "      <td>De Jong</td>\n",
       "      <td>Netherland</td>\n",
       "      <td>Ter</td>\n",
       "    </tr>\n",
       "    <tr>\n",
       "      <th>2</th>\n",
       "      <td>Arsenal</td>\n",
       "      <td>Mikel Aretea</td>\n",
       "      <td>Odegard</td>\n",
       "      <td>Norway</td>\n",
       "      <td>Raya</td>\n",
       "    </tr>\n",
       "    <tr>\n",
       "      <th>3</th>\n",
       "      <td>Man City</td>\n",
       "      <td>Pep G</td>\n",
       "      <td>KDB</td>\n",
       "      <td>Belgium</td>\n",
       "      <td>Ederson</td>\n",
       "    </tr>\n",
       "    <tr>\n",
       "      <th>4</th>\n",
       "      <td>Man United</td>\n",
       "      <td>ETH</td>\n",
       "      <td>Dalot</td>\n",
       "      <td>Portgual</td>\n",
       "      <td>Onana</td>\n",
       "    </tr>\n",
       "    <tr>\n",
       "      <th>5</th>\n",
       "      <td>Liverpool</td>\n",
       "      <td>Kloop</td>\n",
       "      <td>VVD</td>\n",
       "      <td>Netherland</td>\n",
       "      <td>Allison</td>\n",
       "    </tr>\n",
       "  </tbody>\n",
       "</table>\n",
       "</div>"
      ],
      "text/plain": [
       "  Football Club       Manager  Captain Nationality GoalKeeper\n",
       "0   Real Madrid       Carlo A    Kross     Germany      Lunin\n",
       "1         Barca   Hansi Flick  De Jong  Netherland        Ter\n",
       "2       Arsenal  Mikel Aretea  Odegard      Norway       Raya\n",
       "3      Man City         Pep G      KDB     Belgium    Ederson\n",
       "4    Man United           ETH    Dalot    Portgual      Onana\n",
       "5     Liverpool         Kloop      VVD  Netherland    Allison"
      ]
     },
     "execution_count": 18,
     "metadata": {},
     "output_type": "execute_result"
    }
   ],
   "source": [
    "Football\n"
   ]
  },
  {
   "cell_type": "code",
   "execution_count": 20,
   "id": "872022f5",
   "metadata": {},
   "outputs": [],
   "source": [
    "Manager = Football[\"Manager\"]"
   ]
  },
  {
   "cell_type": "code",
   "execution_count": 21,
   "id": "6fdec6c7",
   "metadata": {},
   "outputs": [
    {
     "data": {
      "text/plain": [
       "0         Carlo A\n",
       "1     Hansi Flick\n",
       "2    Mikel Aretea\n",
       "3           Pep G\n",
       "4             ETH\n",
       "5           Kloop\n",
       "Name: Manager, dtype: object"
      ]
     },
     "execution_count": 21,
     "metadata": {},
     "output_type": "execute_result"
    }
   ],
   "source": [
    "Manager"
   ]
  },
  {
   "cell_type": "code",
   "execution_count": null,
   "id": "cdf54df8",
   "metadata": {},
   "outputs": [],
   "source": []
  }
 ],
 "metadata": {
  "kernelspec": {
   "display_name": "Python 3 (ipykernel)",
   "language": "python",
   "name": "python3"
  },
  "language_info": {
   "codemirror_mode": {
    "name": "ipython",
    "version": 3
   },
   "file_extension": ".py",
   "mimetype": "text/x-python",
   "name": "python",
   "nbconvert_exporter": "python",
   "pygments_lexer": "ipython3",
   "version": "3.11.7"
  }
 },
 "nbformat": 4,
 "nbformat_minor": 5
}
