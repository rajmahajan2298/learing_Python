{
 "cells": [
  {
   "cell_type": "code",
   "execution_count": 1,
   "id": "d82ac401",
   "metadata": {},
   "outputs": [
    {
     "name": "stdout",
     "output_type": "stream",
     "text": [
      "soda\n",
      "60000.0\n",
      "260000.0\n"
     ]
    }
   ],
   "source": [
    "# Variables in Python\n",
    "\n",
    "#Variables are containers where we can store our value or data.\n",
    "#Variables in python is intilize like (first_name, _firstname, firstname_) we cannot use $name to intilize python variables.\n",
    "\n",
    "\n",
    "#For Example - \n",
    "#Suppose we have a Can of a \"Soda\" so,we can write it down like, \n",
    "\n",
    "can = \"soda\"\n",
    "print(can)\n",
    "type(can)\n",
    "\n",
    "#Here Can variable contains a \"String type of value\". \n",
    "#Variables can Contains the values like, Numbers, String, Bool etc.\n",
    "\n",
    "#Let's write a function to find simple interest \n",
    "#Simple Interest = P * R * T / 100\n",
    "#Here P = Principal Amount, R = Rate of Interest, T = Total Time\n",
    "\n",
    "P = 200000.0\n",
    "R = 10\n",
    "T = 3\n",
    "Simple_Interest = P * R * T / 100\n",
    "print(Simple_Interest)\n",
    "\n",
    "total_amount = P + Simple_Interest\n",
    "print(total_amount)"
   ]
  },
  {
   "cell_type": "code",
   "execution_count": 4,
   "id": "dc35f7bf",
   "metadata": {},
   "outputs": [
    {
     "name": "stdout",
     "output_type": "stream",
     "text": [
      "15\n",
      "9856.0\n",
      "9856\n"
     ]
    }
   ],
   "source": [
    "# Numbers in Python\n",
    "\n",
    "#We can stored all types of numbers in python whether it is floating point type, normal or in a binary form.\n",
    "#There are several methods also for the numbers through which we can play around.\n",
    "\n",
    "a = 5\n",
    "b = 10\n",
    "c = a+b\n",
    "print(c)\n",
    "\n",
    "#Let's write a program to find the area of a circle\n",
    "#Area of circle = pi * r ^ 2\n",
    "\n",
    "pi = 22/7\n",
    "r = 56\n",
    "area = pi * r ** 2\n",
    "print(area)\n",
    "print(round(area))"
   ]
  },
  {
   "cell_type": "code",
   "execution_count": 6,
   "id": "fe59e972",
   "metadata": {},
   "outputs": [],
   "source": [
    "# Data Types in Python\n",
    "\n",
    "#Fundamentl DT -\n",
    "#Int, Float, Bool, Str, List, Tuple, Set, Dictonary\n",
    "\n",
    "#Custom DT -\n",
    "#Class\n",
    "\n",
    "#Specilized DT -\n",
    "#Libaries, Modules & Packages\n",
    "#None - Specilized DT"
   ]
  },
  {
   "cell_type": "code",
   "execution_count": 29,
   "id": "6e8ef404",
   "metadata": {},
   "outputs": [
    {
     "name": "stdout",
     "output_type": "stream",
     "text": [
      "Raj Mahajan\n",
      "100\n",
      "<class 'str'>\n",
      "My first name is Raj and my last name is Mahajan and i am 25 years old\n",
      "oot\n",
      "Football\n",
      "Fo\n",
      "F\n",
      "llabtooF\n",
      "Football\n",
      "My favourite \n",
      "My favourite sport is football\n"
     ]
    },
    {
     "data": {
      "text/plain": [
       "'hello python'"
      ]
     },
     "execution_count": 29,
     "metadata": {},
     "output_type": "execute_result"
    }
   ],
   "source": [
    "# String in Python\n",
    "\n",
    "#String is a very powerfull data type we can perform lots of operation through strings such as, String Concatenation, Type Conversion and many more things\n",
    "#Strings are \"Immutable in Python\" Which means Once a string is created it cannot be changed.\n",
    "#Immutability makes it more efficient, makes it thread safe, makes it more preditable\n",
    "#Strings have lots of in-build methods & Modules in python\n",
    "#String stored data in sequencial order\n",
    "\n",
    "#For Example -\n",
    "\n",
    "first_name = \"Raj\"\n",
    "last_name = \"Mahajan\"\n",
    "full_name = first_name + \" \" + last_name #Adding Two String is called String Concate(Means adding two strings\n",
    "print(full_name) \n",
    "\n",
    "#Type Conversion -\n",
    "    \n",
    "print(str(100))\n",
    "print(type(str(100)))\n",
    "    \n",
    "#Formatted String -\n",
    "\n",
    "first_name = \"Raj\"\n",
    "last_name = \"Mahajan\"\n",
    "age = \"25\"\n",
    "full_name = f'My first name is {first_name} and my last name is {last_name} and i am {age} years old'\n",
    "print(full_name)\n",
    "\n",
    "#String Slicing -\n",
    "#Every Letter of string contains an index value which is stored in Memory\n",
    "\n",
    "#For Example -\n",
    "\n",
    "quote = \"Football\" #Football index start from 0 and ends at 8\n",
    "print(quote[1:4]) #String Slicing here it is taking value from index 1 upto index 4\n",
    "print(quote[:9])\n",
    "print(quote[0:4:2]) #First is Where to start, second is where to stop, third is stepover default is 1\n",
    "print(quote[-8])\n",
    "print(quote[::-1]) #Reverse the String using string slicing\n",
    "print(quote[::])\n",
    "\n",
    "para = \"My favourite sport is football\"\n",
    "print(para[:13])\n",
    "print(para[::])\n",
    "\n",
    "#String Methods -\n",
    "\n",
    "Dummy = 'hello python'\n",
    "\n",
    "Dummy.upper() #Capital every letter\n",
    "Dummy.lower() #lower everything\n",
    "Dummy.capitalize() #First letter capital\n",
    "Dummy.title() #Makes First letter of each Capital\n",
    "Dummy.find('ll') #at Index\n",
    "Dummy.replace('python', 'javascript')"
   ]
  },
  {
   "cell_type": "code",
   "execution_count": 1,
   "id": "bc194326",
   "metadata": {},
   "outputs": [],
   "source": [
    "# Lists in Python\n",
    "\n"
   ]
  },
  {
   "cell_type": "code",
   "execution_count": 8,
   "id": "e0c7b4ad",
   "metadata": {},
   "outputs": [
    {
     "name": "stdout",
     "output_type": "stream",
     "text": [
      "Enter Your Number:5\n"
     ]
    },
    {
     "ename": "TypeError",
     "evalue": "not all arguments converted during string formatting",
     "output_type": "error",
     "traceback": [
      "\u001b[1;31m---------------------------------------------------------------------------\u001b[0m",
      "\u001b[1;31mTypeError\u001b[0m                                 Traceback (most recent call last)",
      "Cell \u001b[1;32mIn[8], line 12\u001b[0m\n\u001b[0;32m      1\u001b[0m \u001b[38;5;66;03m#If Else Condition\u001b[39;00m\n\u001b[0;32m      2\u001b[0m \n\u001b[0;32m      3\u001b[0m \u001b[38;5;66;03m#Given an integer, , perform the following conditional actions:\u001b[39;00m\n\u001b[1;32m   (...)\u001b[0m\n\u001b[0;32m      7\u001b[0m \u001b[38;5;66;03m#If n is even and in the inclusive range of 6 to 20, print Weird\u001b[39;00m\n\u001b[0;32m      8\u001b[0m \u001b[38;5;66;03m#If n is even and greater than 20, print Not Weird\u001b[39;00m\n\u001b[0;32m     10\u001b[0m n \u001b[38;5;241m=\u001b[39m \u001b[38;5;28minput\u001b[39m(\u001b[38;5;124m\"\u001b[39m\u001b[38;5;124mEnter Your Number:\u001b[39m\u001b[38;5;124m\"\u001b[39m)\n\u001b[1;32m---> 12\u001b[0m \u001b[38;5;28;01mif\u001b[39;00m n \u001b[38;5;241m%\u001b[39m \u001b[38;5;241m2\u001b[39m \u001b[38;5;241m!=\u001b[39m \u001b[38;5;241m0\u001b[39m:\n\u001b[0;32m     13\u001b[0m     \u001b[38;5;28mprint\u001b[39m(\u001b[38;5;124m\"\u001b[39m\u001b[38;5;124mWeird\u001b[39m\u001b[38;5;124m\"\u001b[39m)\n\u001b[0;32m     14\u001b[0m \u001b[38;5;28;01melse\u001b[39;00m:\n",
      "\u001b[1;31mTypeError\u001b[0m: not all arguments converted during string formatting"
     ]
    }
   ],
   "source": [
    "#If Else Condition\n",
    "\n",
    "#Given an integer, , perform the following conditional actions:\n",
    "\n",
    "#If n is odd, print Weird\n",
    "#If n is even and in the inclusive range of 2 to 5, print Not Weird\n",
    "#If n is even and in the inclusive range of 6 to 20, print Weird\n",
    "#If n is even and greater than 20, print Not Weird\n",
    "\n",
    "n = input(\"Enter Your Number:\")\n",
    "n = int(n)\n",
    "\n",
    "if n % 2 != 0:\n",
    "    print(\"Weird\")\n",
    "else:\n",
    "    if n >= 2 and n <= 5:\n",
    "        print(\"Not Weird\") \n",
    "    elif n >= 6 and n <= 20:\n",
    "        print(\"Weird\")\n",
    "    elif n > 20:\n",
    "        print(\"Not Weird\")"
   ]
  },
  {
   "cell_type": "code",
   "execution_count": null,
   "id": "38b77b12",
   "metadata": {},
   "outputs": [],
   "source": []
  }
 ],
 "metadata": {
  "kernelspec": {
   "display_name": "Python 3 (ipykernel)",
   "language": "python",
   "name": "python3"
  },
  "language_info": {
   "codemirror_mode": {
    "name": "ipython",
    "version": 3
   },
   "file_extension": ".py",
   "mimetype": "text/x-python",
   "name": "python",
   "nbconvert_exporter": "python",
   "pygments_lexer": "ipython3",
   "version": "3.11.7"
  }
 },
 "nbformat": 4,
 "nbformat_minor": 5
}
