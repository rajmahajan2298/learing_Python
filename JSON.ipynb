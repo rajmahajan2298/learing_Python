{
 "cells": [
  {
   "cell_type": "code",
   "execution_count": 2,
   "id": "e333b7c7",
   "metadata": {},
   "outputs": [
    {
     "name": "stdout",
     "output_type": "stream",
     "text": [
      "{\"tom\": {\"name\": \"tom\", \"address\": \"1 red streetm NY\", \"phone\": 9245082990}, \"bob\": {\"name\": \"bob\", \"address\": \"1 chruch street UK\", \"phone\": 9425089772}}\n"
     ]
    }
   ],
   "source": [
    "book = {}\n",
    "\n",
    "book['tom'] = {\n",
    "    'name': 'tom',\n",
    "    'address': '1 red streetm NY',\n",
    "    'phone': 9245082990\n",
    "}\n",
    "\n",
    "book['bob'] = {\n",
    "    'name': 'bob',\n",
    "    'address': '1 chruch street UK',\n",
    "    'phone': 9425089772\n",
    "}\n",
    "\n",
    "import json\n",
    "s = json.dumps(book) # It will dump book as a string and than convert it to JSON\n",
    "print(s)\n",
    "\n",
    "with open(\"D://Python//file//book.txt\", \"w\") as f:\n",
    "    f.write(s)"
   ]
  },
  {
   "cell_type": "code",
   "execution_count": 5,
   "id": "82c94c3f",
   "metadata": {},
   "outputs": [
    {
     "name": "stdout",
     "output_type": "stream",
     "text": [
      "{'name': 'tom', 'address': '1 red streetm NY', 'phone': 9245082990}\n",
      "{'name': 'bob', 'address': '1 chruch street UK', 'phone': 9425089772}\n"
     ]
    }
   ],
   "source": [
    "f = open(\"D://Python//file//book.txt\", \"r\")\n",
    "s = f.read() # Gives string\n",
    "\n",
    "import json\n",
    "book = json.loads(s) #It will loads the json file in string and print it as dictionary\n",
    "\n",
    "book['bob']['phone']\n",
    "\n",
    "for person in book:\n",
    "    print(book[person]) #Gives every details of person object as dictnary"
   ]
  },
  {
   "cell_type": "code",
   "execution_count": null,
   "id": "f17a22a8",
   "metadata": {},
   "outputs": [],
   "source": []
  }
 ],
 "metadata": {
  "kernelspec": {
   "display_name": "Python 3 (ipykernel)",
   "language": "python",
   "name": "python3"
  },
  "language_info": {
   "codemirror_mode": {
    "name": "ipython",
    "version": 3
   },
   "file_extension": ".py",
   "mimetype": "text/x-python",
   "name": "python",
   "nbconvert_exporter": "python",
   "pygments_lexer": "ipython3",
   "version": "3.11.7"
  }
 },
 "nbformat": 4,
 "nbformat_minor": 5
}
